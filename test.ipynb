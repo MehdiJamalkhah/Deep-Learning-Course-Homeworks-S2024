{
  "cells": [
    {
      "cell_type": "code",
      "execution_count": null,
      "metadata": {
        "id": "wnQYBgytTj1Z"
      },
      "outputs": [],
      "source": [
        "import numpy as np\n",
        "x = np.array([1, 2])\n",
        "np.save('x.npy', x)"
      ]
    },
    {
      "cell_type": "code",
      "execution_count": null,
      "metadata": {
        "id": "RwmZi_bvTj1d",
        "outputId": "1a3ea035-e32a-4276-9de1-531ca1899cf4"
      },
      "outputs": [
        {
          "data": {
            "text/plain": [
              "array([1, 2])"
            ]
          },
          "execution_count": 6,
          "metadata": {},
          "output_type": "execute_result"
        }
      ],
      "source": [
        "y= np.load('x.npy')\n",
        "y"
      ]
    },
    {
      "cell_type": "code",
      "source": [
        "import colab_kernel_launcher"
      ],
      "metadata": {
        "id": "zoPzQSNXUBxM"
      },
      "execution_count": null,
      "outputs": []
    }
  ],
  "metadata": {
    "kernelspec": {
      "display_name": "Python 3",
      "language": "python",
      "name": "python3"
    },
    "language_info": {
      "codemirror_mode": {
        "name": "ipython",
        "version": 3
      },
      "file_extension": ".py",
      "mimetype": "text/x-python",
      "name": "python",
      "nbconvert_exporter": "python",
      "pygments_lexer": "ipython3",
      "version": "3.10.12"
    },
    "colab": {
      "provenance": []
    }
  },
  "nbformat": 4,
  "nbformat_minor": 0
}