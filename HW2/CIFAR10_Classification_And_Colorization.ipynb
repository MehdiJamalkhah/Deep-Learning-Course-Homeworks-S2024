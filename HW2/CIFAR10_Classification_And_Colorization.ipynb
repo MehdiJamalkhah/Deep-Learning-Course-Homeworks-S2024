{
  "cells": [
    {
      "cell_type": "code",
      "execution_count": null,
      "metadata": {
        "id": "o538trhDx3sj",
        "outputId": "46cc6d80-c3ef-4d24-d36d-d79e6209b333"
      },
      "outputs": [
        {
          "data": {
            "text/plain": [
              "['/home/mehdi/elearn/DL/HWs/HW2/vars/40.PDF']"
            ]
          },
          "execution_count": 1,
          "metadata": {},
          "output_type": "execute_result"
        }
      ],
      "source": [
        "import gdown\n",
        "gdown.download_folder(\"https://drive.google.com/drive/folders/1GVb24Y9mzAIMVccSqHQOVQSIoV7ufsWR?usp=sharing\", quiet=True)"
      ]
    },
    {
      "cell_type": "code",
      "execution_count": 1,
      "metadata": {
        "id": "RY-v1Wi-x3sl"
      },
      "outputs": [],
      "source": [
        "import torch\n",
        "\n",
        "def load(filename):\n",
        "    return torch.load('vars/' + filename + '.pt', map_location=torch.device('cpu'))\n",
        "\n",
        "def save(object, filename):\n",
        "    filename = 'vars/' + filename + '.pt'\n",
        "    if isinstance(object, torch.nn.Module):\n",
        "        torch.save(object.state_dict(), filename)\n",
        "    else:\n",
        "        torch.save(object, filename)"
      ]
    },
    {
      "cell_type": "markdown",
      "metadata": {
        "id": "OAa6g3BcFCOi"
      },
      "source": [
        "# CIFAR10 Classification\n",
        "\n",
        "### HW2 @ DL Course, Dr. Soleymani\n",
        "\n",
        "*Full Name:* Mehdi Jamalkhah\n",
        "\n",
        "*SID:* ...\n",
        "\n",
        "In this part of the assignment we want to do an image classification task using PyTorch on CIFAR10 dataset."
      ]
    },
    {
      "cell_type": "markdown",
      "metadata": {
        "id": "Ej8Q1gQPbTyE"
      },
      "source": [
        "### Google Colab Setup"
      ]
    },
    {
      "cell_type": "code",
      "execution_count": 2,
      "metadata": {
        "colab": {
          "base_uri": "https://localhost:8080/"
        },
        "id": "T8kheJRyVeFZ",
        "outputId": "71c25eee-668c-4b6c-f602-4073ef90efb3"
      },
      "outputs": [
        {
          "output_type": "stream",
          "name": "stdout",
          "text": [
            "Mounted at /content/drive\n"
          ]
        }
      ],
      "source": [
        "from google.colab import drive\n",
        "drive.mount('/content/drive')"
      ]
    },
    {
      "cell_type": "code",
      "execution_count": 3,
      "metadata": {
        "colab": {
          "base_uri": "https://localhost:8080/"
        },
        "id": "Srq7CBcGVl18",
        "outputId": "1aefda81-5bb8-42a1-adcb-633e62fff672"
      },
      "outputs": [
        {
          "output_type": "stream",
          "name": "stdout",
          "text": [
            "['data', 'DL', 'net.pth', 'CIFAR10_Classification_And_Colorization.ipynb', 'vars', 'x.npy']\n"
          ]
        }
      ],
      "source": [
        "import os\n",
        "\n",
        "GOOGLE_DRIVE_PATH_AFTER_MYDRIVE = 'DL/HW2'\n",
        "GOOGLE_DRIVE_PATH = os.path.join('drive', 'My Drive', GOOGLE_DRIVE_PATH_AFTER_MYDRIVE)\n",
        "os.chdir(GOOGLE_DRIVE_PATH)\n",
        "print(os.listdir('./'))"
      ]
    },
    {
      "cell_type": "code",
      "execution_count": 4,
      "metadata": {
        "id": "2GsrCzWTOIhI"
      },
      "outputs": [],
      "source": [
        "import torch\n",
        "import torchvision\n",
        "from torchvision import transforms"
      ]
    },
    {
      "cell_type": "markdown",
      "metadata": {
        "id": "CIv1Mpsbvt8v"
      },
      "source": [
        "## Device\n",
        "\n",
        "Set device to work with (GPU or CPU)"
      ]
    },
    {
      "cell_type": "code",
      "execution_count": 5,
      "metadata": {
        "colab": {
          "base_uri": "https://localhost:8080/",
          "height": 35
        },
        "id": "2uGuIUtwSFAR",
        "outputId": "c322d328-d1c2-4687-d614-b9e91381973c"
      },
      "outputs": [
        {
          "output_type": "execute_result",
          "data": {
            "text/plain": [
              "'cuda'"
            ],
            "application/vnd.google.colaboratory.intrinsic+json": {
              "type": "string"
            }
          },
          "metadata": {},
          "execution_count": 5
        }
      ],
      "source": [
        "CUDA = 'cuda'\n",
        "device = 'cuda' if torch.cuda.is_available() else 'cpu'\n",
        "device"
      ]
    },
    {
      "cell_type": "markdown",
      "metadata": {
        "id": "g4T4AL0cv1Jm"
      },
      "source": [
        "## Transforms & Dataset & Dataloader\n",
        "\n",
        "Here, you should download and load the dataset with the desire transforms. After that, you should split train dataset to train and validation sets. Finally, define the dataloaders for `train`, `validation` and `test`"
      ]
    },
    {
      "cell_type": "code",
      "execution_count": 6,
      "metadata": {
        "id": "4E6TT8whO9N4"
      },
      "outputs": [],
      "source": [
        "classes = ['plane', 'car', 'bird', 'cat', 'deer', 'dog', 'frog', 'horse', 'ship', 'truck']"
      ]
    },
    {
      "cell_type": "code",
      "execution_count": 7,
      "metadata": {
        "id": "yuo6wyCkEqMK"
      },
      "outputs": [],
      "source": [
        "transform_train = transforms.Compose([\n",
        "    transforms.RandomCrop(32, padding=4),\n",
        "    transforms.RandomHorizontalFlip(),\n",
        "    transforms.ToTensor(),\n",
        "    transforms.Normalize((0.4914, 0.4822, 0.4465), (0.2023, 0.1994, 0.2010)),\n",
        "])\n",
        "transform_test = transforms.Compose([\n",
        "    transforms.ToTensor(),\n",
        "    transforms.Normalize((0.4914, 0.4822, 0.4465), (0.2023, 0.1994, 0.2010)),\n",
        "])"
      ]
    },
    {
      "cell_type": "code",
      "execution_count": 8,
      "metadata": {
        "id": "FR0BpY0YO-Em"
      },
      "outputs": [],
      "source": [
        "# inverse the normilize transform to restore the original data\n",
        "class UnNormalize(object):\n",
        "    def __init__(self, mean, std):\n",
        "        self.mean = mean\n",
        "        self.std = std\n",
        "\n",
        "    def __call__(self, tensor):\n",
        "        \"\"\"\n",
        "        Args:\n",
        "            tensor (Tensor): Tensor image of size (C, H, W) to be normalized.\n",
        "        Returns:\n",
        "            Tensor: Normalized image.\n",
        "        \"\"\"\n",
        "        tensor = tensor * self.std + self.mean\n",
        "        return tensor\n",
        "\n",
        "norminv = UnNormalize(mean=(0.4914, 0.4822, 0.4465), std=(0.2023, 0.1994, 0.2010))"
      ]
    },
    {
      "cell_type": "code",
      "execution_count": 9,
      "metadata": {
        "id": "Z3UuPXFQOSDX"
      },
      "outputs": [],
      "source": [
        "initial_trainset = torchvision.datasets.CIFAR10(root='./data', train=True,\n",
        "                                        download=False, transform=transform_train)"
      ]
    },
    {
      "cell_type": "code",
      "execution_count": 10,
      "metadata": {
        "id": "61n36ZUkD-gA"
      },
      "outputs": [],
      "source": [
        "from torch.utils.data import random_split\n",
        "\n",
        "trainset, valset = random_split(initial_trainset, [45000, 5000])"
      ]
    },
    {
      "cell_type": "code",
      "execution_count": 11,
      "metadata": {
        "id": "gXhlMgGkEBPs"
      },
      "outputs": [],
      "source": [
        "from torch.utils.data import DataLoader\n",
        "\n",
        "batch_size = 128\n",
        "\n",
        "trainloader = DataLoader(trainset, batch_size=batch_size, shuffle=True, num_workers=2)\n",
        "valloader = DataLoader(valset, batch_size=batch_size, shuffle=False, num_workers=2)"
      ]
    },
    {
      "cell_type": "code",
      "execution_count": 12,
      "metadata": {
        "colab": {
          "base_uri": "https://localhost:8080/"
        },
        "id": "godQEnIuEDRo",
        "outputId": "57585f34-c401-4fc5-f4db-c077629436b8"
      },
      "outputs": [
        {
          "output_type": "stream",
          "name": "stdout",
          "text": [
            "Files already downloaded and verified\n"
          ]
        }
      ],
      "source": [
        "testset = torchvision.datasets.CIFAR10(root='./data', train=False,\n",
        "                                       download=True, transform=transform_test)\n",
        "\n",
        "testloader = DataLoader(testset, batch_size=batch_size, shuffle=False, num_workers=2)"
      ]
    },
    {
      "cell_type": "markdown",
      "metadata": {
        "id": "-C-YjLZtwnq2"
      },
      "source": [
        "## Visualization\n",
        "\n",
        "Visualize 5 random images from each class in different columns\n",
        "\n",
        "- **Hint**:  You can use `plt.subplots` for visualization"
      ]
    },
    {
      "cell_type": "code",
      "execution_count": null,
      "metadata": {
        "colab": {
          "base_uri": "https://localhost:8080/",
          "height": 279
        },
        "id": "sfwytktJVVCH",
        "outputId": "1099ef62-484a-496f-acf5-573c50e43563"
      },
      "outputs": [
        {
          "name": "stderr",
          "output_type": "stream",
          "text": [
            "Clipping input data to the valid range for imshow with RGB data ([0..1] for floats or [0..255] for integers).\n",
            "Clipping input data to the valid range for imshow with RGB data ([0..1] for floats or [0..255] for integers).\n",
            "Clipping input data to the valid range for imshow with RGB data ([0..1] for floats or [0..255] for integers).\n",
            "Clipping input data to the valid range for imshow with RGB data ([0..1] for floats or [0..255] for integers).\n",
            "Clipping input data to the valid range for imshow with RGB data ([0..1] for floats or [0..255] for integers).\n"
          ]
        },
        {
          "data": {
            "image/png": "[encoded data removed]",
            "text/plain": [
              "<Figure size 1000x500 with 5 Axes>"
            ]
          },
          "metadata": {},
          "output_type": "display_data"
        }
      ],
      "source": [
        "import matplotlib.pyplot as plt\n",
        "import numpy as np\n",
        "\n",
        "images, labels = next(iter(trainloader))\n",
        "\n",
        "indexes = np.random.randint(0 , len(images), 5)\n",
        "plt.figure(figsize=(10, 5))\n",
        "\n",
        "for i, idx in enumerate(indexes):\n",
        "    plt.subplot(1, 5, i + 1)\n",
        "    plt.imshow(images[idx].permute(1, 2, 0))\n",
        "    plt.title(f\"Label: {classes[labels[idx]]}\")\n",
        "    plt.axis('off')"
      ]
    },
    {
      "cell_type": "markdown",
      "metadata": {
        "id": "ja-L0f1wybzU"
      },
      "source": [
        "## Model\n",
        "\n",
        "Define your ResNet model here from scratch (You are not allowed to use the existing models in pytorch)\n",
        "\n",
        "Our suggestion is to implement ResNet18"
      ]
    },
    {
      "cell_type": "code",
      "execution_count": 13,
      "metadata": {
        "id": "_ZtjLZl2VVCH"
      },
      "outputs": [],
      "source": [
        "import torch.nn as nn\n",
        "\n",
        "class ResNetBlock(torch.nn.Module):\n",
        "    def __init__(self, in_channels, out_channels, identity_downsample=None,stride=1):\n",
        "        super(ResNetBlock, self).__init__()\n",
        "\n",
        "        self.conv1 = nn.Conv2d(in_channels, out_channels, kernel_size=3, stride=stride, padding=1)\n",
        "        self.bn1 = nn.BatchNorm2d(out_channels)\n",
        "        self.conv2 = nn.Conv2d(out_channels, out_channels, kernel_size=3, stride=1, padding=1)\n",
        "        self.bn2 = nn.BatchNorm2d(out_channels)\n",
        "        self.relu = nn.ReLU()\n",
        "        self.identity_downsample = identity_downsample\n",
        "\n",
        "    def forward(self, x):\n",
        "        identity = x\n",
        "        x = self.conv1(x)\n",
        "        x = self.bn1(x)\n",
        "        x = self.relu(x)\n",
        "        x = self.conv2(x)\n",
        "        x = self.bn2(x)\n",
        "        if self.identity_downsample is not None:\n",
        "            identity = self.identity_downsample(identity)\n",
        "\n",
        "        x += identity\n",
        "        x = self.relu(x)\n",
        "        return x\n",
        "\n",
        "\n",
        "class ResNetLayer(torch.nn.Module):\n",
        "    def __init__(self, in_channels, out_channels, stride=1) -> None:\n",
        "        super(ResNetLayer, self).__init__()\n",
        "\n",
        "        identity_downsample = None\n",
        "        if stride != 1:\n",
        "            identity_downsample =  nn.Sequential(\n",
        "                nn.Conv2d(in_channels, out_channels, kernel_size=3, stride=2, padding=1),\n",
        "                nn.BatchNorm2d(out_channels)\n",
        "            )\n",
        "\n",
        "        self.block1 = ResNetBlock(in_channels, out_channels, identity_downsample, stride=stride)\n",
        "        self.block2 = ResNetBlock(out_channels, out_channels)\n",
        "\n",
        "    def forward(self, x):\n",
        "        x = self.block1(x)\n",
        "        x = self.block2(x)\n",
        "        return x\n",
        "\n",
        "\n",
        "class ResNet18(torch.nn.Module):\n",
        "    def __init__(self, in_channels=3, num_classes=10):\n",
        "        super(ResNet18, self).__init__()\n",
        "        self.conv1 = nn.Conv2d(in_channels, 64, kernel_size=7, stride=2, padding=3)\n",
        "        self.bn1 = nn.BatchNorm2d(64)\n",
        "        self.relu = nn.ReLU()\n",
        "        self.pool1 = nn.MaxPool2d(kernel_size=3, stride=2, padding=1)\n",
        "\n",
        "        self.layer1 = ResNetLayer(64, 64)\n",
        "        self.layer2 = ResNetLayer(64, 128, stride=2)\n",
        "        self.layer3 = ResNetLayer(128, 256, stride=2)\n",
        "        self.layer4 = ResNetLayer(256, 512, stride=2)\n",
        "\n",
        "        self.avgPool = nn.AdaptiveAvgPool2d((1, 1))\n",
        "        self.fc = nn.Linear(512, num_classes)\n",
        "\n",
        "    def forward(self, x):\n",
        "        x = self.conv1(x)\n",
        "        x = self.bn1(x)\n",
        "        x = self.relu(x)\n",
        "        x = self.pool1(x)\n",
        "\n",
        "        x = self.layer1(x)\n",
        "        x = self.layer2(x)\n",
        "        x = self.layer3(x)\n",
        "        x = self.layer4(x)\n",
        "\n",
        "        x = self.avgPool(x)\n",
        "        x = x.view(x.shape[0], -1)\n",
        "        x = self.fc(x)\n",
        "        return x"
      ]
    },
    {
      "cell_type": "markdown",
      "metadata": {
        "id": "eYp77Euaz_5u"
      },
      "source": [
        "## Train"
      ]
    },
    {
      "cell_type": "markdown",
      "metadata": {
        "id": "odR5mfCA0Eqy"
      },
      "source": [
        "### Model instantiation\n",
        "\n",
        "Create an instance of your model and move it to `device`"
      ]
    },
    {
      "cell_type": "code",
      "execution_count": 14,
      "metadata": {
        "id": "i3PjKY_oSBkg"
      },
      "outputs": [],
      "source": [
        "net = ResNet18().to(device)"
      ]
    },
    {
      "cell_type": "markdown",
      "metadata": {
        "id": "h8zn5eLs0bBS"
      },
      "source": [
        "### Criterion & Optimizater\n",
        "\n",
        "Define `criterion` and `optimizer` (Or `scheduler`)"
      ]
    },
    {
      "cell_type": "code",
      "execution_count": 19,
      "metadata": {
        "id": "gEd5yXt3SL2T"
      },
      "outputs": [],
      "source": [
        "criterion =  nn.CrossEntropyLoss()\n",
        "optimizer = torch.optim.SGD(net.parameters(), lr=0.01, momentum=0.9, weight_decay=5e-4)\n",
        "scheduler = torch.optim.lr_scheduler.CosineAnnealingLR(optimizer, T_max=200)"
      ]
    },
    {
      "cell_type": "markdown",
      "metadata": {
        "id": "Gth9e1k70uAI"
      },
      "source": [
        "### Train loop\n",
        "\n",
        "Train your model\n",
        "\n",
        "Tasks:\n",
        "- [ ] Things that are needed to be printed in each epoch:\n",
        "  - Number of epoch\n",
        "  - Train loss\n",
        "  - Train accuracy\n",
        "  - Validation loss\n",
        "  - Validation accuracy\n",
        "- [ ] save train/validation loss and accuracy (of each epoch) in an array for later usage"
      ]
    },
    {
      "cell_type": "code",
      "execution_count": 16,
      "metadata": {
        "id": "ONOcKjTxpDpQ"
      },
      "outputs": [],
      "source": [
        "import tqdm\n",
        "from time import time"
      ]
    },
    {
      "cell_type": "code",
      "execution_count": 17,
      "metadata": {
        "id": "y87a3RWjVVCJ"
      },
      "outputs": [],
      "source": [
        "def correct(output, target):\n",
        "    _, predicted = output.max(1)\n",
        "    return predicted.eq(target).sum().item()"
      ]
    },
    {
      "cell_type": "code",
      "execution_count": 18,
      "metadata": {
        "id": "yFz0lVkUs8Mk"
      },
      "outputs": [],
      "source": [
        "def train_epoch(net: torch.nn.Module, criterion: torch.nn.Module, optimizer: torch.optim.Optimizer,scheduler: torch.optim.lr_scheduler ,dataloader: torch.utils.data.DataLoader):\n",
        "    net.train()\n",
        "\n",
        "    total_loss = 0.0\n",
        "    corrects = 0\n",
        "    total = 0\n",
        "\n",
        "    for batch, labels in dataloader:\n",
        "        batch, labels = batch.to(device), labels.to(device)\n",
        "\n",
        "        optimizer.zero_grad()\n",
        "        output = net(batch)\n",
        "\n",
        "        loss = criterion(output, labels)\n",
        "        loss.backward()\n",
        "        optimizer.step()\n",
        "\n",
        "        total_loss += loss.item()\n",
        "        total += labels.size(0)\n",
        "        corrects += correct(output, labels)\n",
        "\n",
        "    avg_loss = total_loss / len(dataloader)\n",
        "    accuracy = 100 * corrects / total\n",
        "\n",
        "    return avg_loss, accuracy\n",
        "\n",
        "def eval_epoch(net: torch.nn.Module, criterion: torch.nn.Module, dataloader: torch.utils.data.DataLoader, test_mode: bool = False):\n",
        "    net.eval()\n",
        "\n",
        "    total_loss = 0.0\n",
        "    corrects = 0\n",
        "    total = 0\n",
        "\n",
        "    if test_mode:\n",
        "      incorrect_images = torch.tensor([]).to(device)\n",
        "\n",
        "    with torch.no_grad():\n",
        "        for batch, labels in dataloader:\n",
        "            batch, labels = batch.to(device), labels.to(device)\n",
        "\n",
        "            outputs = net(batch)\n",
        "            loss = criterion(outputs, labels)\n",
        "\n",
        "            total_loss += loss.item()\n",
        "\n",
        "            _, predicted = outputs.max(1)\n",
        "            total += labels.size(0)\n",
        "            corrects += predicted.eq(labels).sum().item()\n",
        "\n",
        "            if test_mode:\n",
        "              incorrect_images = torch.concatenate([incorrect_images, batch[predicted.eq(labels)]])\n",
        "\n",
        "    avg_loss = total_loss / len(dataloader)\n",
        "    accuracy = 100.0 * corrects / total\n",
        "\n",
        "    if test_mode:\n",
        "      return avg_loss, accuracy, incorrect_images\n",
        "    return avg_loss, accuracy\n"
      ]
    },
    {
      "cell_type": "code",
      "execution_count": 22,
      "metadata": {
        "id": "FhLUsf5bx3su",
        "outputId": "d6908f61-841d-41cd-e4e7-61d502c8c441",
        "colab": {
          "base_uri": "https://localhost:8080/"
        }
      },
      "outputs": [
        {
          "output_type": "stream",
          "name": "stdout",
          "text": [
            "(Epoch 1 / 8) train loss: 0.5261; train acc: 81.42%; val loss: 0.6467; val_acc: 77.00%\n",
            "(Epoch 2 / 8) train loss: 0.5091; train acc: 82.24%; val loss: 0.6367; val_acc: 77.80%\n",
            "(Epoch 3 / 8) train loss: 0.4964; train acc: 82.64%; val loss: 0.6128; val_acc: 78.88%\n",
            "(Epoch 4 / 8) train loss: 0.4811; train acc: 83.10%; val loss: 0.6515; val_acc: 78.16%\n",
            "(Epoch 5 / 8) train loss: 0.4710; train acc: 83.43%; val loss: 0.5740; val_acc: 79.54%\n",
            "(Epoch 6 / 8) train loss: 0.4561; train acc: 83.98%; val loss: 0.6157; val_acc: 79.20%\n",
            "(Epoch 7 / 8) train loss: 0.4466; train acc: 84.40%; val loss: 0.6786; val_acc: 76.66%\n",
            "(Epoch 8 / 8) train loss: 0.4389; train acc: 84.60%; val loss: 0.6048; val_acc: 79.78%\n"
          ]
        }
      ],
      "source": [
        "epochs = 8\n",
        "history = {'train_loss':[], 'train_acc':[], 'val_loss':[], 'val_acc':[]}\n",
        "\n",
        "if device == CUDA:\n",
        "    for e in range(epochs):\n",
        "        train_loss, train_acc = train_epoch(net, criterion, optimizer, scheduler, trainloader)\n",
        "        val_loss, val_acc = eval_epoch(net, criterion, valloader)\n",
        "        scheduler.step()\n",
        "\n",
        "        history['train_loss'].append(train_loss)\n",
        "        history['train_acc'].append(train_acc)\n",
        "        history['val_loss'].append(val_loss)\n",
        "        history['val_acc'].append(val_acc)\n",
        "\n",
        "        print(f\"(Epoch {e + 1} / {epochs}) train loss:{train_loss: .4f}; train acc:{train_acc: .2f}%; val loss:{val_loss: .4f}; val_acc:{val_acc: .2f}%\")\n",
        "\n",
        "    save(net, 'net')\n",
        "    save(history, 'history')\n",
        "else:\n",
        "    net.load_state_dict(load('net'))\n",
        "    history = load('history')"
      ]
    },
    {
      "cell_type": "markdown",
      "metadata": {
        "id": "uwg7D6sv1kFL"
      },
      "source": [
        "### Visualize Loss and Accuracy plot\n",
        "\n",
        "Using the arrays that you have (from task 2 in the above section), visualize two plots: Accuracy plot (train and validation together) and Loss plot (train and validation together)"
      ]
    },
    {
      "cell_type": "code",
      "execution_count": 23,
      "metadata": {
        "id": "zoTWbAVUbJw_",
        "outputId": "eb3c4fde-e85e-4143-b928-fad4d8699a2e",
        "colab": {
          "base_uri": "https://localhost:8080/",
          "height": 1000
        }
      },
      "outputs": [
        {
          "output_type": "display_data",
          "data": {
            "text/plain": [
              "<Figure size 1500x1200 with 2 Axes>"
            ],
            "image/png": "[encoded data removed]"
          },
          "metadata": {}
        }
      ],
      "source": [
        "import matplotlib.pyplot as plt\n",
        "\n",
        "plt.subplot(2, 1, 1)\n",
        "plt.title('Train/Val Loss')\n",
        "plt.plot(history['train_loss'], '-o', label='train')\n",
        "plt.plot(history['val_loss'], '-o', label='val')\n",
        "plt.ylabel('loss')\n",
        "plt.xlabel('Epoch')\n",
        "plt.legend(loc='lower left')\n",
        "\n",
        "plt.subplot(2, 1, 2)\n",
        "plt.title('Train/Val Accuracy')\n",
        "plt.plot(history['train_acc'], '-o', label='train')\n",
        "plt.plot(history['val_acc'], '-o', label='val')\n",
        "plt.plot([80] * len(history['train_acc']), 'k--')\n",
        "plt.xlabel('Epoch')\n",
        "plt.ylabel('accuracy(%)')\n",
        "plt.legend(loc='lower right')\n",
        "plt.gcf().set_size_inches(15, 12)\n",
        "plt.show()"
      ]
    },
    {
      "cell_type": "markdown",
      "metadata": {
        "id": "DF_oCC3p2Q3C"
      },
      "source": [
        "## Evaluation\n",
        "\n",
        "Test your trained model (using the Test Dataloader that you have). Our goal is to reach an accuracy above `80%`"
      ]
    },
    {
      "cell_type": "code",
      "execution_count": 24,
      "metadata": {
        "colab": {
          "base_uri": "https://localhost:8080/"
        },
        "id": "hzkNN4sMb3lK",
        "outputId": "2d185891-b69e-483c-8d0c-dec922928072"
      },
      "outputs": [
        {
          "output_type": "stream",
          "name": "stdout",
          "text": [
            "train loss: 0.5593; test acc: 80.98%;\n"
          ]
        }
      ],
      "source": [
        "test_loss, test_acc, incorrects = eval_epoch(net, criterion, testloader, test_mode=True)\n",
        "print(f\"train loss:{test_loss: .4f}; test acc:{test_acc: .2f}%;\")"
      ]
    },
    {
      "cell_type": "markdown",
      "metadata": {
        "id": "jCKR1Xac2keH"
      },
      "source": [
        "## Visualize incorrectly predicted samples from testset\n",
        "\n",
        "Visualize *24* random images from testset that are incorrectly predicted by the model"
      ]
    },
    {
      "cell_type": "code",
      "execution_count": null,
      "metadata": {
        "colab": {
          "base_uri": "https://localhost:8080/"
        },
        "id": "Ew2KUBIWcG35",
        "outputId": "4c5cc746-5194-4cb7-b42d-a9abf4df59df"
      },
      "outputs": [
        {
          "data": {
            "text/plain": [
              "45000"
            ]
          },
          "execution_count": 37,
          "metadata": {},
          "output_type": "execute_result"
        }
      ],
      "source": []
    },
    {
      "cell_type": "markdown",
      "metadata": {
        "id": "tJdFFFGL9T7L"
      },
      "source": [
        "## Exploring the feature space"
      ]
    },
    {
      "cell_type": "markdown",
      "metadata": {
        "id": "mTQ0aX0j9c7q"
      },
      "source": [
        "### Calculate the feature space for all training samples\n",
        "\n",
        "You have trained and evaluated your model. Now, for each sample in the trainset, calculate it's \"feature space\" discussed in the model section. The result of this section should be a tensor of size `(50000, N)` saved in a variable (for later usage)\n",
        "\n",
        "- **Hint 1:** define a tensor with dimension `(50000, N)` where *50000* is the size of the trainset and *N* is the dimension of the feature space\n",
        "\n",
        "- **Hint 2:** Pay attension to the `shuffle` attribute of your train dataloader (If needed)"
      ]
    },
    {
      "cell_type": "code",
      "execution_count": null,
      "metadata": {
        "id": "JbMzEiuqyP20"
      },
      "outputs": [],
      "source": [
        "# TODO"
      ]
    },
    {
      "cell_type": "markdown",
      "metadata": {
        "id": "FDoLqddo-WJV"
      },
      "source": [
        "### K Nearest Neighbor in feature space\n",
        "\n",
        "You already have calculated the feature spaces for trainset ($S$) in the previous section\n",
        "\n",
        "1. Get 5 random samples from testset which are correctly predicted by the model.\n",
        "2. for each sample, calculate it's \"feature space\" ($X$)\n",
        "3. for each sample, calculate it's *5* nearest neighbors in \"feature space\" in the trainset (by comparing $X$ to each row in $S$) and visualize them\n",
        "\n",
        "\n",
        "**Hint:** For finding the nearest neighbors in the feature space you can use `torch.linalg.norm` and `torch.topk`"
      ]
    },
    {
      "cell_type": "code",
      "execution_count": null,
      "metadata": {
        "id": "0IBf3Hbpb6mZ"
      },
      "outputs": [],
      "source": [
        "# TODO"
      ]
    },
    {
      "cell_type": "markdown",
      "metadata": {
        "id": "_X9aAFY3_g3w"
      },
      "source": [
        "### TSNE"
      ]
    },
    {
      "cell_type": "markdown",
      "metadata": {
        "id": "r3DC15RI_loC"
      },
      "source": [
        "1. Sample $M$ ($2000$ would be enought) random samples from the trainset feature space (calculated in the above sections)\n",
        "2. Now you have a vector of size `(M, N)` where $N$ is the dimension of the feature space\n",
        "3. Using TSNE reduce $N$ to $2$ (Now you have a vector of size `(M, 2)`)\n",
        "4. Visualize the points in a 2D plane (Set color of each point based on it's class)\n",
        "\n",
        "**Hint:** You can use `sklearn.manifold.TSNE`\n",
        "\n",
        "**Hint:** Use `plt.scatter(x, y, c=labels)`\n"
      ]
    },
    {
      "cell_type": "code",
      "execution_count": null,
      "metadata": {
        "id": "qsj2zTP6XeLX"
      },
      "outputs": [],
      "source": [
        "# TODO"
      ]
    },
    {
      "cell_type": "markdown",
      "metadata": {
        "id": "y2NHVvUwF0-6"
      },
      "source": [
        "# CIFAR10 Colorization\n",
        "\n",
        "In this part of the assignment, we want to do an image colorization task using PyTorch on CIFAR10 dataset. We want to train a model that colors  a black-and-white image."
      ]
    },
    {
      "cell_type": "markdown",
      "metadata": {
        "id": "U-HuWeIBGlj1"
      },
      "source": [
        "## Import Libraries\n",
        "\n",
        "Import needed libraries"
      ]
    },
    {
      "cell_type": "code",
      "execution_count": null,
      "metadata": {
        "id": "W2-QrdeQGlj2"
      },
      "outputs": [],
      "source": [
        "import torch\n",
        "import torchvision\n",
        "from torchvision import transforms\n",
        "from torch.utils.data import Dataset, DataLoader"
      ]
    },
    {
      "cell_type": "code",
      "execution_count": null,
      "metadata": {
        "colab": {
          "base_uri": "https://localhost:8080/",
          "height": 35
        },
        "id": "JCj_e-J11kr_",
        "outputId": "9b874eb5-4aa9-499a-dfe9-47c6dc63c613"
      },
      "outputs": [
        {
          "data": {
            "application/vnd.google.colaboratory.intrinsic+json": {
              "type": "string"
            },
            "text/plain": [
              "'cuda'"
            ]
          },
          "execution_count": 2,
          "metadata": {},
          "output_type": "execute_result"
        }
      ],
      "source": [
        "device = 'cuda' if torch.cuda.is_available() else 'cpu'\n",
        "device"
      ]
    },
    {
      "cell_type": "markdown",
      "metadata": {
        "id": "vljvz3SpG_Hs"
      },
      "source": [
        "## Custom Dataset\n",
        "\n",
        "Define a custom dataset class by extensing `torch.utils.data.Dataset`\n",
        "\n",
        "**Notice:** your dataset should output two things: black-and-white image and the RGB image\n",
        "\n",
        "**Hint:** You don't have to reinvent the wheel. Your class should just be a wrapper for CIFAR10 dataset"
      ]
    },
    {
      "cell_type": "code",
      "execution_count": null,
      "metadata": {
        "id": "GUfsSe7ZHAkv"
      },
      "outputs": [],
      "source": [
        "class BlackAndWhiteCIFAR10(Dataset):\n",
        "    \"\"\"\n",
        "    Define a custom dataset class by extending `torch.utils.data.Dataset`\n",
        "    this class is a dataset for the CIFAR10 data in pytorch and it has the black and white image of the original CIFAR10 image as the data\n",
        "    and the original RGB image as the target\n",
        "    this class is just a wrapper for the torchvision.datasets.CIFAR10 class\n",
        "    \"\"\"\n",
        "\n",
        "    def __init__(self, train=True, root='./data', download=True, transform=None):\n",
        "        pass\n",
        "\n",
        "    def __len__(self):\n",
        "        pass\n",
        "\n",
        "    def __getitem__(self, index):\n",
        "        pass"
      ]
    },
    {
      "cell_type": "markdown",
      "metadata": {
        "id": "pqoRjKPAG1y2"
      },
      "source": [
        "## Transforms & Dataset & Dataloader\n",
        "\n",
        "**Notice:** Use your defined custom dataset class for defining the datasets"
      ]
    },
    {
      "cell_type": "code",
      "execution_count": null,
      "metadata": {
        "id": "obw3INKm1XJg"
      },
      "outputs": [],
      "source": [
        "classes = ['plane', 'car', 'bird', 'cat', 'deer', 'dog', 'frog', 'horse', 'ship', 'truck']"
      ]
    },
    {
      "cell_type": "code",
      "execution_count": null,
      "metadata": {
        "id": "sUyYOcG_G2_P"
      },
      "outputs": [],
      "source": [
        "transform_train =\n",
        "\n",
        "transform_test ="
      ]
    },
    {
      "cell_type": "code",
      "execution_count": null,
      "metadata": {
        "colab": {
          "base_uri": "https://localhost:8080/",
          "height": 85,
          "referenced_widgets": [
            "84d3ef1673a549fa81117d5487a344e2",
            "50db6971d00842b4927f0179cde2e0f7",
            "3097c1869fb045b58cdfdf5d853c329d",
            "ebbb00f6f62a4a648baa9ea9c636e292",
            "c367441d96514be989291b3dd1c190c7",
            "00c651315a3543f3aa9268414c21f684",
            "743735a1426048aebbec54ef6ed46214",
            "3b06cce1a4494758b530b27c9a8ec233",
            "091df5377aa94c709d901bc836719bbc",
            "91db8ce9d6a14c53a855fb015d07d536",
            "a06813e829404414be23fcd3c8d24000"
          ]
        },
        "id": "WlvY-A0R1uow",
        "outputId": "045b3bcd-5cff-4c2c-cef8-988cf96d187e"
      },
      "outputs": [
        {
          "name": "stdout",
          "output_type": "stream",
          "text": [
            "Downloading https://www.cs.toronto.edu/~kriz/cifar-10-python.tar.gz to ./data/cifar-10-python.tar.gz\n"
          ]
        },
        {
          "data": {
            "application/vnd.jupyter.widget-view+json": {
              "model_id": "84d3ef1673a549fa81117d5487a344e2",
              "version_major": 2,
              "version_minor": 0
            },
            "text/plain": [
              "  0%|          | 0/170498071 [00:00<?, ?it/s]"
            ]
          },
          "metadata": {},
          "output_type": "display_data"
        },
        {
          "name": "stdout",
          "output_type": "stream",
          "text": [
            "Extracting ./data/cifar-10-python.tar.gz to ./data\n"
          ]
        }
      ],
      "source": [
        "initial_trainset = BlackAndWhiteCIFAR10(root='./data', train=True,\n",
        "                                        download=True, transform=transform_train)"
      ]
    },
    {
      "cell_type": "code",
      "execution_count": null,
      "metadata": {
        "id": "xPP5qwLo18hG"
      },
      "outputs": [],
      "source": [
        "trainset, valset ="
      ]
    },
    {
      "cell_type": "code",
      "execution_count": null,
      "metadata": {
        "id": "LkYNF8ah19LX"
      },
      "outputs": [],
      "source": [
        "trainloader =\n",
        "valloader ="
      ]
    },
    {
      "cell_type": "markdown",
      "metadata": {
        "id": "D4Nz6IWxINoq"
      },
      "source": [
        "## Dataset Visualization\n",
        "\n",
        "Visualize your dataset (black-and-white image along with the RGB image) by sampling from your trainset"
      ]
    },
    {
      "cell_type": "code",
      "execution_count": null,
      "metadata": {
        "id": "hjj-B6SSIPTU"
      },
      "outputs": [],
      "source": [
        "# TODO"
      ]
    },
    {
      "cell_type": "markdown",
      "metadata": {
        "id": "tYXibse_I6Sw"
      },
      "source": [
        "## Model\n",
        "\n",
        "Define your model here (Input: black-and-white image, Output: RGB image)\n",
        "\n",
        "**Hint:** You can implement an autoencoder that does the colorization task for you. UNet could be a viable option"
      ]
    },
    {
      "cell_type": "code",
      "execution_count": null,
      "metadata": {
        "id": "TrAaIwPYI5Lp"
      },
      "outputs": [],
      "source": [
        "\n",
        "import torch.nn as nn\n",
        "\n",
        "class ConvBlock(nn.Module):\n",
        "    def __init__(self,):\n",
        "        super(ConvBlock, self).__init__()\n",
        "        pass\n",
        "\n",
        "    def forward(self, x):\n",
        "        pass\n",
        "\n",
        "class TransConvBlock(nn.Module):\n",
        "    def __init__(self,):\n",
        "        super(TransConvBlock, self).__init__()\n",
        "        pass\n",
        "\n",
        "    def forward(self, x, skip_input):\n",
        "        pass\n",
        "\n",
        "class colorizationNet(nn.Module):\n",
        "    def __init__(self):\n",
        "        pass\n",
        "\n",
        "    def forward(self, x):\n",
        "        pass"
      ]
    },
    {
      "cell_type": "markdown",
      "metadata": {
        "id": "ox3GdhWkKSfy"
      },
      "source": [
        "## Train\n",
        "\n",
        "Train your model\n",
        "\n",
        "Tasks:\n",
        "- [ ] Things that are needed to be printed in each epoch:\n",
        "  - Number of epoch\n",
        "  - Train loss\n",
        "  - Validation loss\n",
        "- [ ] save train/validation loss (of each epoch) in an array for later usage"
      ]
    },
    {
      "cell_type": "code",
      "execution_count": null,
      "metadata": {
        "id": "jLH9z2zjKjEH"
      },
      "outputs": [],
      "source": [
        "net ="
      ]
    },
    {
      "cell_type": "code",
      "execution_count": null,
      "metadata": {
        "id": "O3Q3WylJnrpc"
      },
      "outputs": [],
      "source": [
        "criterion =\n",
        "optimizer ="
      ]
    },
    {
      "cell_type": "code",
      "execution_count": null,
      "metadata": {
        "id": "wrnVWkAypq3-"
      },
      "outputs": [],
      "source": [
        "import tqdm\n",
        "from time import time"
      ]
    },
    {
      "cell_type": "code",
      "execution_count": null,
      "metadata": {
        "id": "YTvVBSOtqIX8"
      },
      "outputs": [],
      "source": [
        "def train_epoch(net: torch.nn.Module, criterion: torch.nn.Module, optimizer: torch.optim.Optimizer ,dataloader: torch.utils.data.DataLoader):\n",
        "    pass\n",
        "\n",
        "def eval_epoch(net: torch.nn.Module, criterion: torch.nn.Module, dataloader: torch.utils.data.DataLoader, test_mode: bool = False):\n",
        "    pass"
      ]
    },
    {
      "cell_type": "code",
      "execution_count": null,
      "metadata": {
        "id": "eOoWOGuGqNbZ"
      },
      "outputs": [],
      "source": [
        "epochs =\n",
        "\n",
        "for e in range(epochs):\n",
        "    pass"
      ]
    },
    {
      "cell_type": "markdown",
      "metadata": {
        "id": "TEM_ntRJLjLR"
      },
      "source": [
        "### Visualize Loss plot\n",
        "\n",
        "Using the arrays that you have (from task 2 in the above section), visualize the loss plot (train and validation together)"
      ]
    },
    {
      "cell_type": "code",
      "execution_count": null,
      "metadata": {
        "id": "pesG4263qeU2"
      },
      "outputs": [],
      "source": [
        "# TODO"
      ]
    },
    {
      "cell_type": "markdown",
      "metadata": {
        "id": "ekWfxMkpKot4"
      },
      "source": [
        "## Evaluation\n",
        "\n",
        "1. Sample 36 random samples from testset (your own dataset class)\n",
        "2. Give each of the 36 samples to your trained model and get the outputs\n",
        "3. Visualize `input` (black-and-white image), `output` (output of the model with the given black-and-white input image) and `ground truth` (the actual RGB image)\n",
        "\n"
      ]
    },
    {
      "cell_type": "code",
      "execution_count": null,
      "metadata": {
        "colab": {
          "base_uri": "https://localhost:8080/"
        },
        "id": "g8lhDXtgvqQl",
        "outputId": "6240684b-f76e-4efd-f51f-8f304aeace09"
      },
      "outputs": [
        {
          "name": "stdout",
          "output_type": "stream",
          "text": [
            "Files already downloaded and verified\n"
          ]
        }
      ],
      "source": [
        "testset =\n",
        "testloader ="
      ]
    },
    {
      "cell_type": "code",
      "execution_count": null,
      "metadata": {
        "id": "c9BjzM16yZgg"
      },
      "outputs": [],
      "source": [
        "# TODO"
      ]
    }
  ],
  "metadata": {
    "accelerator": "GPU",
    "colab": {
      "gpuType": "T4",
      "provenance": []
    },
    "interpreter": {
      "hash": "dff97b9f14a22ccae10e7a517c30d03fcee05a8617da6e3ca20a923077f5eb08"
    },
    "kernelspec": {
      "display_name": "Python 3",
      "name": "python3"
    },
    "language_info": {
      "codemirror_mode": {
        "name": "ipython",
        "version": 3
      },
      "file_extension": ".py",
      "mimetype": "text/x-python",
      "name": "python",
      "nbconvert_exporter": "python",
      "pygments_lexer": "ipython3",
      "version": "3.11.5"
    },
    "widgets": {
      "application/vnd.jupyter.widget-state+json": {
        "00c651315a3543f3aa9268414c21f684": {
          "model_module": "@jupyter-widgets/base",
          "model_module_version": "1.2.0",
          "model_name": "LayoutModel",
          "state": {
            "_model_module": "@jupyter-widgets/base",
            "_model_module_version": "1.2.0",
            "_model_name": "LayoutModel",
            "_view_count": null,
            "_view_module": "@jupyter-widgets/base",
            "_view_module_version": "1.2.0",
            "_view_name": "LayoutView",
            "align_content": null,
            "align_items": null,
            "align_self": null,
            "border": null,
            "bottom": null,
            "display": null,
            "flex": null,
            "flex_flow": null,
            "grid_area": null,
            "grid_auto_columns": null,
            "grid_auto_flow": null,
            "grid_auto_rows": null,
            "grid_column": null,
            "grid_gap": null,
            "grid_row": null,
            "grid_template_areas": null,
            "grid_template_columns": null,
            "grid_template_rows": null,
            "height": null,
            "justify_content": null,
            "justify_items": null,
            "left": null,
            "margin": null,
            "max_height": null,
            "max_width": null,
            "min_height": null,
            "min_width": null,
            "object_fit": null,
            "object_position": null,
            "order": null,
            "overflow": null,
            "overflow_x": null,
            "overflow_y": null,
            "padding": null,
            "right": null,
            "top": null,
            "visibility": null,
            "width": null
          }
        },
        "091df5377aa94c709d901bc836719bbc": {
          "model_module": "@jupyter-widgets/controls",
          "model_module_version": "1.5.0",
          "model_name": "ProgressStyleModel",
          "state": {
            "_model_module": "@jupyter-widgets/controls",
            "_model_module_version": "1.5.0",
            "_model_name": "ProgressStyleModel",
            "_view_count": null,
            "_view_module": "@jupyter-widgets/base",
            "_view_module_version": "1.2.0",
            "_view_name": "StyleView",
            "bar_color": null,
            "description_width": ""
          }
        },
        "3097c1869fb045b58cdfdf5d853c329d": {
          "model_module": "@jupyter-widgets/controls",
          "model_module_version": "1.5.0",
          "model_name": "FloatProgressModel",
          "state": {
            "_dom_classes": [],
            "_model_module": "@jupyter-widgets/controls",
            "_model_module_version": "1.5.0",
            "_model_name": "FloatProgressModel",
            "_view_count": null,
            "_view_module": "@jupyter-widgets/controls",
            "_view_module_version": "1.5.0",
            "_view_name": "ProgressView",
            "bar_style": "success",
            "description": "",
            "description_tooltip": null,
            "layout": "IPY_MODEL_3b06cce1a4494758b530b27c9a8ec233",
            "max": 170498071,
            "min": 0,
            "orientation": "horizontal",
            "style": "IPY_MODEL_091df5377aa94c709d901bc836719bbc",
            "value": 170498071
          }
        },
        "3b06cce1a4494758b530b27c9a8ec233": {
          "model_module": "@jupyter-widgets/base",
          "model_module_version": "1.2.0",
          "model_name": "LayoutModel",
          "state": {
            "_model_module": "@jupyter-widgets/base",
            "_model_module_version": "1.2.0",
            "_model_name": "LayoutModel",
            "_view_count": null,
            "_view_module": "@jupyter-widgets/base",
            "_view_module_version": "1.2.0",
            "_view_name": "LayoutView",
            "align_content": null,
            "align_items": null,
            "align_self": null,
            "border": null,
            "bottom": null,
            "display": null,
            "flex": null,
            "flex_flow": null,
            "grid_area": null,
            "grid_auto_columns": null,
            "grid_auto_flow": null,
            "grid_auto_rows": null,
            "grid_column": null,
            "grid_gap": null,
            "grid_row": null,
            "grid_template_areas": null,
            "grid_template_columns": null,
            "grid_template_rows": null,
            "height": null,
            "justify_content": null,
            "justify_items": null,
            "left": null,
            "margin": null,
            "max_height": null,
            "max_width": null,
            "min_height": null,
            "min_width": null,
            "object_fit": null,
            "object_position": null,
            "order": null,
            "overflow": null,
            "overflow_x": null,
            "overflow_y": null,
            "padding": null,
            "right": null,
            "top": null,
            "visibility": null,
            "width": null
          }
        },
        "50db6971d00842b4927f0179cde2e0f7": {
          "model_module": "@jupyter-widgets/controls",
          "model_module_version": "1.5.0",
          "model_name": "HTMLModel",
          "state": {
            "_dom_classes": [],
            "_model_module": "@jupyter-widgets/controls",
            "_model_module_version": "1.5.0",
            "_model_name": "HTMLModel",
            "_view_count": null,
            "_view_module": "@jupyter-widgets/controls",
            "_view_module_version": "1.5.0",
            "_view_name": "HTMLView",
            "description": "",
            "description_tooltip": null,
            "layout": "IPY_MODEL_00c651315a3543f3aa9268414c21f684",
            "placeholder": "​",
            "style": "IPY_MODEL_743735a1426048aebbec54ef6ed46214",
            "value": "100%"
          }
        },
        "743735a1426048aebbec54ef6ed46214": {
          "model_module": "@jupyter-widgets/controls",
          "model_module_version": "1.5.0",
          "model_name": "DescriptionStyleModel",
          "state": {
            "_model_module": "@jupyter-widgets/controls",
            "_model_module_version": "1.5.0",
            "_model_name": "DescriptionStyleModel",
            "_view_count": null,
            "_view_module": "@jupyter-widgets/base",
            "_view_module_version": "1.2.0",
            "_view_name": "StyleView",
            "description_width": ""
          }
        },
        "84d3ef1673a549fa81117d5487a344e2": {
          "model_module": "@jupyter-widgets/controls",
          "model_module_version": "1.5.0",
          "model_name": "HBoxModel",
          "state": {
            "_dom_classes": [],
            "_model_module": "@jupyter-widgets/controls",
            "_model_module_version": "1.5.0",
            "_model_name": "HBoxModel",
            "_view_count": null,
            "_view_module": "@jupyter-widgets/controls",
            "_view_module_version": "1.5.0",
            "_view_name": "HBoxView",
            "box_style": "",
            "children": [
              "IPY_MODEL_50db6971d00842b4927f0179cde2e0f7",
              "IPY_MODEL_3097c1869fb045b58cdfdf5d853c329d",
              "IPY_MODEL_ebbb00f6f62a4a648baa9ea9c636e292"
            ],
            "layout": "IPY_MODEL_c367441d96514be989291b3dd1c190c7"
          }
        },
        "91db8ce9d6a14c53a855fb015d07d536": {
          "model_module": "@jupyter-widgets/base",
          "model_module_version": "1.2.0",
          "model_name": "LayoutModel",
          "state": {
            "_model_module": "@jupyter-widgets/base",
            "_model_module_version": "1.2.0",
            "_model_name": "LayoutModel",
            "_view_count": null,
            "_view_module": "@jupyter-widgets/base",
            "_view_module_version": "1.2.0",
            "_view_name": "LayoutView",
            "align_content": null,
            "align_items": null,
            "align_self": null,
            "border": null,
            "bottom": null,
            "display": null,
            "flex": null,
            "flex_flow": null,
            "grid_area": null,
            "grid_auto_columns": null,
            "grid_auto_flow": null,
            "grid_auto_rows": null,
            "grid_column": null,
            "grid_gap": null,
            "grid_row": null,
            "grid_template_areas": null,
            "grid_template_columns": null,
            "grid_template_rows": null,
            "height": null,
            "justify_content": null,
            "justify_items": null,
            "left": null,
            "margin": null,
            "max_height": null,
            "max_width": null,
            "min_height": null,
            "min_width": null,
            "object_fit": null,
            "object_position": null,
            "order": null,
            "overflow": null,
            "overflow_x": null,
            "overflow_y": null,
            "padding": null,
            "right": null,
            "top": null,
            "visibility": null,
            "width": null
          }
        },
        "a06813e829404414be23fcd3c8d24000": {
          "model_module": "@jupyter-widgets/controls",
          "model_module_version": "1.5.0",
          "model_name": "DescriptionStyleModel",
          "state": {
            "_model_module": "@jupyter-widgets/controls",
            "_model_module_version": "1.5.0",
            "_model_name": "DescriptionStyleModel",
            "_view_count": null,
            "_view_module": "@jupyter-widgets/base",
            "_view_module_version": "1.2.0",
            "_view_name": "StyleView",
            "description_width": ""
          }
        },
        "c367441d96514be989291b3dd1c190c7": {
          "model_module": "@jupyter-widgets/base",
          "model_module_version": "1.2.0",
          "model_name": "LayoutModel",
          "state": {
            "_model_module": "@jupyter-widgets/base",
            "_model_module_version": "1.2.0",
            "_model_name": "LayoutModel",
            "_view_count": null,
            "_view_module": "@jupyter-widgets/base",
            "_view_module_version": "1.2.0",
            "_view_name": "LayoutView",
            "align_content": null,
            "align_items": null,
            "align_self": null,
            "border": null,
            "bottom": null,
            "display": null,
            "flex": null,
            "flex_flow": null,
            "grid_area": null,
            "grid_auto_columns": null,
            "grid_auto_flow": null,
            "grid_auto_rows": null,
            "grid_column": null,
            "grid_gap": null,
            "grid_row": null,
            "grid_template_areas": null,
            "grid_template_columns": null,
            "grid_template_rows": null,
            "height": null,
            "justify_content": null,
            "justify_items": null,
            "left": null,
            "margin": null,
            "max_height": null,
            "max_width": null,
            "min_height": null,
            "min_width": null,
            "object_fit": null,
            "object_position": null,
            "order": null,
            "overflow": null,
            "overflow_x": null,
            "overflow_y": null,
            "padding": null,
            "right": null,
            "top": null,
            "visibility": null,
            "width": null
          }
        },
        "ebbb00f6f62a4a648baa9ea9c636e292": {
          "model_module": "@jupyter-widgets/controls",
          "model_module_version": "1.5.0",
          "model_name": "HTMLModel",
          "state": {
            "_dom_classes": [],
            "_model_module": "@jupyter-widgets/controls",
            "_model_module_version": "1.5.0",
            "_model_name": "HTMLModel",
            "_view_count": null,
            "_view_module": "@jupyter-widgets/controls",
            "_view_module_version": "1.5.0",
            "_view_name": "HTMLView",
            "description": "",
            "description_tooltip": null,
            "layout": "IPY_MODEL_91db8ce9d6a14c53a855fb015d07d536",
            "placeholder": "​",
            "style": "IPY_MODEL_a06813e829404414be23fcd3c8d24000",
            "value": " 170498071/170498071 [00:01&lt;00:00, 87093789.07it/s]"
          }
        }
      }
    }
  },
  "nbformat": 4,
  "nbformat_minor": 0
}