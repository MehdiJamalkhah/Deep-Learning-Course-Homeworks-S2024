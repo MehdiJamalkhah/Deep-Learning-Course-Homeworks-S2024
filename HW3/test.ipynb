{
 "cells": [
  {
   "cell_type": "code",
   "execution_count": 1,
   "metadata": {},
   "outputs": [
    {
     "name": "stderr",
     "output_type": "stream",
     "text": [
      "/home/mehdi/anaconda3/lib/python3.11/site-packages/transformers/utils/generic.py:260: UserWarning: torch.utils._pytree._register_pytree_node is deprecated. Please use torch.utils._pytree.register_pytree_node instead.\n",
      "  torch.utils._pytree._register_pytree_node(\n"
     ]
    },
    {
     "name": "stdout",
     "output_type": "stream",
     "text": [
      "These are tokens! tensor([[  101, 20351,  2118,  1997,  2974,   102]])\n"
     ]
    },
    {
     "name": "stderr",
     "output_type": "stream",
     "text": [
      "2024-08-24 11:33:38.509950: I external/local_xla/xla/tsl/cuda/cudart_stub.cc:32] Could not find cuda drivers on your machine, GPU will not be used.\n",
      "2024-08-24 11:33:38.611153: I external/local_xla/xla/tsl/cuda/cudart_stub.cc:32] Could not find cuda drivers on your machine, GPU will not be used.\n",
      "2024-08-24 11:33:38.713567: E external/local_xla/xla/stream_executor/cuda/cuda_fft.cc:485] Unable to register cuFFT factory: Attempting to register factory for plugin cuFFT when one has already been registered\n",
      "2024-08-24 11:33:38.811759: E external/local_xla/xla/stream_executor/cuda/cuda_dnn.cc:8454] Unable to register cuDNN factory: Attempting to register factory for plugin cuDNN when one has already been registered\n",
      "2024-08-24 11:33:38.841885: E external/local_xla/xla/stream_executor/cuda/cuda_blas.cc:1452] Unable to register cuBLAS factory: Attempting to register factory for plugin cuBLAS when one has already been registered\n",
      "2024-08-24 11:33:39.017112: I tensorflow/core/platform/cpu_feature_guard.cc:210] This TensorFlow binary is optimized to use available CPU instructions in performance-critical operations.\n",
      "To enable the following instructions: AVX2 FMA, in other operations, rebuild TensorFlow with the appropriate compiler flags.\n",
      "2024-08-24 11:33:40.979276: W tensorflow/compiler/tf2tensorrt/utils/py_utils.cc:38] TF-TRT Warning: Could not find TensorRT\n"
     ]
    },
    {
     "name": "stdout",
     "output_type": "stream",
     "text": [
      "This are decoded tokens! [CLS]\n",
      "This are decoded tokens! sharif\n",
      "This are decoded tokens! university\n",
      "This are decoded tokens! of\n",
      "This are decoded tokens! technology\n",
      "This are decoded tokens! [SEP]\n",
      "tensor([[[ 0.0390, -0.0123, -0.0208,  ...,  0.0607,  0.0230,  0.0238],\n",
      "         [-0.0008, -0.0828, -0.0560,  ..., -0.1000, -0.1007, -0.0837],\n",
      "         [-0.0779,  0.0094,  0.0027,  ..., -0.0588, -0.0071, -0.0351],\n",
      "         [-0.0415, -0.0041,  0.0112,  ...,  0.0049, -0.0181, -0.0023],\n",
      "         [-0.0207, -0.0096, -0.0489,  ..., -0.0231,  0.0032, -0.0090],\n",
      "         [-0.0199, -0.0095, -0.0099,  ..., -0.0235,  0.0071, -0.0071]]],\n",
      "       grad_fn=<EmbeddingBackward0>)\n",
      "------------------------------------------------------------------\n",
      "This is an embedding! tensor([ 0.0390, -0.0123, -0.0208, -0.0005], grad_fn=<SliceBackward0>)\n",
      "This is an embedding! tensor([-0.0008, -0.0828, -0.0560, -0.1235], grad_fn=<SliceBackward0>)\n",
      "This is an embedding! tensor([-0.0779,  0.0094,  0.0027, -0.0266], grad_fn=<SliceBackward0>)\n",
      "This is an embedding! tensor([-0.0415, -0.0041,  0.0112, -0.0229], grad_fn=<SliceBackward0>)\n",
      "This is an embedding! tensor([-0.0207, -0.0096, -0.0489, -0.0092], grad_fn=<SliceBackward0>)\n",
      "This is an embedding! tensor([-0.0199, -0.0095, -0.0099, -0.0119], grad_fn=<SliceBackward0>)\n"
     ]
    }
   ],
   "source": [
    "from transformers import DistilBertTokenizerFast, DistilBertModel\n",
    "\n",
    "tokenizer = DistilBertTokenizerFast.from_pretrained(\"distilbert-base-uncased\")\n",
    "tokens = tokenizer.encode('Sharif University of Technology', return_tensors='pt')\n",
    "print(\"These are tokens!\", tokens)\n",
    "for token in tokens[0]:\n",
    "    print(\"This are decoded tokens!\", tokenizer.decode([token]))\n",
    "\n",
    "model = DistilBertModel.from_pretrained(\"distilbert-base-uncased\")\n",
    "print(model.embeddings.word_embeddings(tokens))\n",
    "print('------------------------------------------------------------------')\n",
    "for e in model.embeddings.word_embeddings(tokens)[0]:\n",
    "    print(\"This is an embedding!\", e[:4])"
   ]
  },
  {
   "cell_type": "code",
   "execution_count": 2,
   "metadata": {},
   "outputs": [
    {
     "name": "stdout",
     "output_type": "stream",
     "text": [
      "These are tokens! tensor([[  101, 20351,  2118,  1997,  2974,   102]])\n",
      "This are decoded tokens! [CLS]\n",
      "This are decoded tokens! sharif\n",
      "This are decoded tokens! university\n",
      "This are decoded tokens! of\n",
      "This are decoded tokens! technology\n",
      "This are decoded tokens! [SEP]\n",
      "tensor([[[ 0.0390, -0.0123, -0.0208,  ...,  0.0607,  0.0230,  0.0238],\n",
      "         [-0.0008, -0.0828, -0.0560,  ..., -0.1000, -0.1007, -0.0837],\n",
      "         [-0.0779,  0.0094,  0.0027,  ..., -0.0588, -0.0071, -0.0351],\n",
      "         [-0.0415, -0.0041,  0.0112,  ...,  0.0049, -0.0181, -0.0023],\n",
      "         [-0.0207, -0.0096, -0.0489,  ..., -0.0231,  0.0032, -0.0090],\n",
      "         [-0.0199, -0.0095, -0.0099,  ..., -0.0235,  0.0071, -0.0071]]],\n",
      "       grad_fn=<EmbeddingBackward0>)\n",
      "------------------------------------------------------------------\n",
      "This is an embedding! tensor([ 0.0390, -0.0123, -0.0208, -0.0005], grad_fn=<SliceBackward0>)\n",
      "This is an embedding! tensor([-0.0008, -0.0828, -0.0560, -0.1235], grad_fn=<SliceBackward0>)\n",
      "This is an embedding! tensor([-0.0779,  0.0094,  0.0027, -0.0266], grad_fn=<SliceBackward0>)\n",
      "This is an embedding! tensor([-0.0415, -0.0041,  0.0112, -0.0229], grad_fn=<SliceBackward0>)\n",
      "This is an embedding! tensor([-0.0207, -0.0096, -0.0489, -0.0092], grad_fn=<SliceBackward0>)\n",
      "This is an embedding! tensor([-0.0199, -0.0095, -0.0099, -0.0119], grad_fn=<SliceBackward0>)\n"
     ]
    }
   ],
   "source": [
    "from transformers import DistilBertTokenizerFast, DistilBertModel\n",
    "\n",
    "tokenizer = DistilBertTokenizerFast.from_pretrained(\"distilbert-base-uncased\")\n",
    "tokens = tokenizer.encode('Sharif University of Technology', return_tensors='pt')\n",
    "print(\"These are tokens!\", tokens)\n",
    "for token in tokens[0]:\n",
    "    print(\"This are decoded tokens!\", tokenizer.decode([token]))\n",
    "\n",
    "model = DistilBertModel.from_pretrained(\"distilbert-base-uncased\")\n",
    "print(model.embeddings.word_embeddings(tokens))\n",
    "print('------------------------------------------------------------------')\n",
    "for e in model.embeddings.word_embeddings(tokens)[0]:\n",
    "    print(\"This is an embedding!\", e[:4])"
   ]
  }
 ],
 "metadata": {
  "kernelspec": {
   "display_name": "base",
   "language": "python",
   "name": "python3"
  },
  "language_info": {
   "codemirror_mode": {
    "name": "ipython",
    "version": 3
   },
   "file_extension": ".py",
   "mimetype": "text/x-python",
   "name": "python",
   "nbconvert_exporter": "python",
   "pygments_lexer": "ipython3",
   "version": "3.11.5"
  }
 },
 "nbformat": 4,
 "nbformat_minor": 2
}
