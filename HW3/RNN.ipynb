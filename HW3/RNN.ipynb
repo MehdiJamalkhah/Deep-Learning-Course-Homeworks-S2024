{
  "cells": [
    {
      "cell_type": "markdown",
      "metadata": {
        "id": "DOaRMBKtGPB5"
      },
      "source": [
        "### Local Setup"
      ]
    },
    {
      "cell_type": "code",
      "execution_count": 15,
      "metadata": {
        "id": "liEgNi1BGPB8"
      },
      "outputs": [
        {
          "data": {
            "text/plain": [
              "['vars/rnn/lstm_history.pt', 'vars/rnn/lstm.pt']"
            ]
          },
          "execution_count": 15,
          "metadata": {},
          "output_type": "execute_result"
        }
      ],
      "source": [
        "import gdown\n",
        "VAR_ROOT = \"vars/rnn\"\n",
        "gdown.download_folder(\"https://drive.google.com/drive/folders/1Giz6bK4qOkDyhDFIZbPjSjm6WeabK_5t?usp=sharing\", output=VAR_ROOT, quiet=True)"
      ]
    },
    {
      "cell_type": "markdown",
      "metadata": {
        "id": "I44zC-xvHlMA"
      },
      "source": [
        "### Google Colab Setup"
      ]
    },
    {
      "cell_type": "code",
      "execution_count": 1,
      "metadata": {
        "colab": {
          "base_uri": "https://localhost:8080/"
        },
        "id": "J51gwQryHLou",
        "outputId": "4d4731f0-767d-4737-f3d6-efd9235200c2"
      },
      "outputs": [
        {
          "name": "stdout",
          "output_type": "stream",
          "text": [
            "Mounted at /content/drive\n",
            "['data']\n"
          ]
        }
      ],
      "source": [
        "from google.colab import drive\n",
        "import os\n",
        "\n",
        "drive.mount('/content/drive')\n",
        "\n",
        "GOOGLE_DRIVE_PATH_AFTER_MYDRIVE = 'DL/HW3'\n",
        "GOOGLE_DRIVE_PATH = os.path.join('drive', 'My Drive', GOOGLE_DRIVE_PATH_AFTER_MYDRIVE)\n",
        "os.chdir(GOOGLE_DRIVE_PATH)\n",
        "print(os.listdir('./'))"
      ]
    },
    {
      "cell_type": "markdown",
      "metadata": {
        "id": "kzYoHyIKGPB_"
      },
      "source": [
        "### Save/Load"
      ]
    },
    {
      "cell_type": "code",
      "execution_count": 12,
      "metadata": {
        "id": "dIEtvDuNHWaX"
      },
      "outputs": [],
      "source": [
        "import torch\n",
        "\n",
        "def load(filename):\n",
        "    return torch.load(VAR_ROOT + '/' + filename + '.pt', map_location=torch.device('cpu'))\n",
        "\n",
        "def save(object, filename):\n",
        "    filename = VAR_ROOT + '/' + filename + '.pt'\n",
        "    if isinstance(object, torch.nn.Module):\n",
        "        torch.save(object.state_dict(), filename)\n",
        "    else:\n",
        "        torch.save(object, filename)"
      ]
    },
    {
      "cell_type": "markdown",
      "metadata": {
        "id": "97npt38AHmeG"
      },
      "source": [
        "## Imports"
      ]
    },
    {
      "cell_type": "code",
      "execution_count": null,
      "metadata": {
        "id": "6GV6VNwvHfAu"
      },
      "outputs": [],
      "source": [
        "import math\n",
        "import matplotlib.pyplot as plt\n",
        "import matplotlib.ticker as ticker\n",
        "import numpy as np\n",
        "import torch\n",
        "import torch.nn as nn\n",
        "import torch.nn.functional as F\n",
        "import torchvision.datasets as datasets\n",
        "import torchvision.transforms as transforms\n",
        "\n",
        "from torch.autograd import Variable\n",
        "from torch.nn import Parameter\n",
        "\n",
        "from name_dataset import Dataset"
      ]
    },
    {
      "cell_type": "markdown",
      "metadata": {
        "id": "LkG3yH-pHpM9"
      },
      "source": [
        "# RNN"
      ]
    },
    {
      "cell_type": "markdown",
      "metadata": {
        "id": "iZ0KcfjJISHg"
      },
      "source": [
        "## Traditional RNN"
      ]
    },
    {
      "cell_type": "markdown",
      "metadata": {
        "id": "Kg5D637YdXA3"
      },
      "source": [
        "In the introductory section, we delve into the architecture of Recurrent Neural Networks (RNNs) and elucidate their training methodologies. To gain a deeper understanding of RNNs, you're encouraged to explore further [HERE](https://stanford.edu/~shervine/teaching/cs-230/cheatsheet-recurrent-neural-network)\n",
        "\n",
        "For the task at hand, you've been furnished with the Names dataset, a compilation comprising thousands of surnames from 18 distinct languages of origin. Your objective is to prognosticate the language of origin for a given name, relying solely on its orthography. Your task primarily involves implementing the section demarcated by `#your_code`."
      ]
    },
    {
      "cell_type": "code",
      "execution_count": null,
      "metadata": {
        "colab": {
          "base_uri": "https://localhost:8080/"
        },
        "id": "HSphx1YaaNl0",
        "outputId": "41338c26-7270-41fc-8fd3-7549cd4edb59"
      },
      "outputs": [
        {
          "name": "stdout",
          "output_type": "stream",
          "text": [
            "Files already exist, skipping download and extraction.\n",
            "category = Italian - random name = Morra\n",
            "category = Arabic - random name = Daher\n",
            "category = Russian - random name = Balabukha\n",
            "category = Polish - random name = Niemczyk\n",
            "category = Czech - random name = Hlavsa\n",
            "category = Russian - random name = Hanzhin\n",
            "category = Russian - random name = Peller\n",
            "category = Greek - random name = Karkampasis\n",
            "category = English - random name = Rennalls\n",
            "category = Scottish - random name = Johnston\n"
          ]
        }
      ],
      "source": [
        "dataset = Dataset()\n",
        "for i in range(10):\n",
        "    category, line, _, _ = dataset.randomTrainingExample()\n",
        "    print('category =', category, '- random name =', line)"
      ]
    },
    {
      "cell_type": "code",
      "execution_count": null,
      "metadata": {
        "id": "9Wusl6Uta5CY"
      },
      "outputs": [],
      "source": [
        "class RNN(nn.Module):\n",
        "    def __init__(self, input_size, hidden_size, output_size):\n",
        "        super(RNN, self).__init__()\n",
        "\n",
        "        self.hidden_size = hidden_size\n",
        "        self.i2h = nn.Linear(input_size + hidden_size, hidden_size)\n",
        "        self.h2o = nn.Linear(hidden_size, output_size)\n",
        "        self.softmax = nn.LogSoftmax(dim=1)\n",
        "\n",
        "    def forward(self, input, hidden):\n",
        "        combined = torch.concat([hidden, input], dim=1)\n",
        "        hidden = F.tanh(self.i2h(combined))\n",
        "        output = self.h2o(hidden)\n",
        "        output = self.softmax(output)\n",
        "        return output, hidden\n",
        "\n",
        "    def initHidden(self):\n",
        "        return torch.zeros(1, self.hidden_size)\n",
        "\n",
        "n_hidden = 128\n",
        "n_letters = dataset.n_letters\n",
        "n_categories = dataset.n_categories\n",
        "rnn = RNN(n_letters, n_hidden, n_categories)"
      ]
    },
    {
      "cell_type": "code",
      "execution_count": null,
      "metadata": {
        "id": "xlvoUSDFY-r7"
      },
      "outputs": [],
      "source": [
        "criterion = nn.NLLLoss()\n",
        "learning_rate = 0.005\n",
        "\n",
        "def train(category_tensor, name_tensor):\n",
        "    hidden = rnn.initHidden()\n",
        "    rnn.zero_grad()\n",
        "\n",
        "    for letter in name_tensor:\n",
        "        output, hidden = rnn(letter, hidden)\n",
        "    loss = criterion(output, category_tensor)\n",
        "    loss.backward()\n",
        "\n",
        "    # Add parameters' gradients to their values, multiplied by learning rate\n",
        "    for p in rnn.parameters():\n",
        "        p.data.add_(p.grad.data, alpha=-learning_rate)\n",
        "\n",
        "    return output, loss.item()"
      ]
    },
    {
      "cell_type": "markdown",
      "metadata": {
        "id": "n6A3nYNgoVfZ"
      },
      "source": [
        "And here you can train your model and see it's performance after each 5000 iterations"
      ]
    },
    {
      "cell_type": "code",
      "execution_count": null,
      "metadata": {
        "id": "BIaxje6AsqKM",
        "outputId": "9f434372-449f-465b-804d-a9945046924e"
      },
      "outputs": [
        {
          "name": "stdout",
          "output_type": "stream",
          "text": [
            "5000 5% 2.4299 Mendes is predicted as a \"Greek\" name, status = ✗ (Portuguese)\n",
            "10000 10% 1.9610 Wallace is predicted as a \"French\" name, status = ✗ (Scottish)\n",
            "15000 15% 3.1416 St martin is predicted as a \"Russian\" name, status = ✗ (French)\n",
            "20000 20% 0.0883 Christakos is predicted as a \"Greek\" name, status = ✓\n",
            "25000 25% 0.3046 Chou is predicted as a \"Korean\" name, status = ✓\n",
            "30000 30% 4.1247 Gerges is predicted as a \"Portuguese\" name, status = ✗ (Arabic)\n",
            "35000 35% 0.0323 Giannakopoulos is predicted as a \"Greek\" name, status = ✓\n",
            "40000 40% 0.8678 Enik is predicted as a \"Russian\" name, status = ✓\n",
            "45000 45% 1.7940 Paternoster is predicted as a \"Dutch\" name, status = ✗ (German)\n",
            "50000 50% 0.5786 Ichisada is predicted as a \"Japanese\" name, status = ✓\n",
            "55000 55% 0.9800 Peusen is predicted as a \"Dutch\" name, status = ✓\n",
            "60000 60% 0.4869 Qiu is predicted as a \"Chinese\" name, status = ✓\n",
            "65000 65% 0.7358 Ustohal is predicted as a \"Czech\" name, status = ✓\n",
            "70000 70% 1.1016 Bach is predicted as a \"Vietnamese\" name, status = ✓\n",
            "75000 75% 0.2923 Zambrano is predicted as a \"Italian\" name, status = ✓\n",
            "80000 80% 5.9161 Gujva is predicted as a \"Polish\" name, status = ✗ (Russian)\n",
            "85000 85% 0.7158 Zientek is predicted as a \"Polish\" name, status = ✓\n",
            "90000 90% 0.0470 Batsakis is predicted as a \"Greek\" name, status = ✓\n",
            "95000 95% 1.3476 Maille is predicted as a \"English\" name, status = ✗ (Irish)\n",
            "100000 100% 0.4636 Zapatero is predicted as a \"Spanish\" name, status = ✓\n"
          ]
        },
        {
          "data": {
            "image/png": "[encoded data removed]",
            "text/plain": [
              "<Figure size 640x480 with 1 Axes>"
            ]
          },
          "metadata": {},
          "output_type": "display_data"
        }
      ],
      "source": [
        "n_iters = 100000\n",
        "print_every = 5000\n",
        "\n",
        "current_loss = 0\n",
        "all_losses = []\n",
        "\n",
        "for iter in range(1, n_iters + 1):\n",
        "    category, line, category_tensor, line_tensor = dataset.randomTrainingExample()\n",
        "    output, loss = train(category_tensor, line_tensor)\n",
        "    current_loss += loss\n",
        "\n",
        "    if iter % print_every == 0:\n",
        "        guess, _ = dataset.categoryFromOutput(output)\n",
        "        correct = '✓' if guess == category else '✗ (%s)' % category\n",
        "        print('%d %d%% %.4f %s is predicted as a \"%s\" name, status = %s' % (iter, iter / n_iters * 100, loss, line, guess, correct))\n",
        "\n",
        "    if iter % 1000 == 0:\n",
        "        all_losses.append(current_loss / 1000)\n",
        "        current_loss = 0\n",
        "\n",
        "plt.figure()\n",
        "plt.plot(all_losses)\n",
        "plt.ylabel('loss')\n",
        "plt.show()"
      ]
    },
    {
      "cell_type": "markdown",
      "metadata": {
        "id": "N3DfTyhGIF2P"
      },
      "source": [
        "## Traditional RNN Disadvantages"
      ]
    },
    {
      "cell_type": "markdown",
      "metadata": {
        "id": "RSBnM7WbNv_T"
      },
      "source": [
        "In this part, we aim to delve into the limitations of traditional RNNs:\n",
        "1.   Recurrent computation is slow\n",
        "2.   They have difficulty accessing information from many steps back.\n",
        "\n",
        "You are provided with a simple code that helps you to give the idea better. By modifying this code, you are able to demonstrate the mentioned disadvantages, but you are also free to change the code if needed or use any dataset you want.\n",
        "\n",
        "**Question:** Do you think using GPU instead of CPU completely solves the first problem?\n",
        "\n",
        "No. Because the network has an $O(T)$ serial part, where $T$ is the maximum length of sequences\n",
        "\n",
        "Note: The main goal of this part is to help you understand these problems better. Don't be too hard to implement and delivery."
      ]
    },
    {
      "cell_type": "code",
      "execution_count": null,
      "metadata": {
        "id": "sEHt-wGAGPCI",
        "outputId": "50044871-2b6f-4666-c2c2-1568bc8b5b4c"
      },
      "outputs": [
        {
          "name": "stdout",
          "output_type": "stream",
          "text": [
            "Epoch [10/100], Loss: 0.9331\n",
            "Epoch [20/100], Loss: 0.8528\n",
            "Epoch [30/100], Loss: 0.7763\n",
            "Epoch [40/100], Loss: 0.6876\n",
            "Epoch [50/100], Loss: 0.5807\n",
            "Epoch [60/100], Loss: 0.4564\n",
            "Epoch [70/100], Loss: 0.3261\n",
            "Epoch [80/100], Loss: 0.2131\n",
            "Epoch [90/100], Loss: 0.1362\n",
            "Epoch [100/100], Loss: 0.0964\n"
          ]
        },
        {
          "data": {
            "image/png": "[encoded data removed]",
            "text/plain": [
              "<Figure size 640x480 with 1 Axes>"
            ]
          },
          "metadata": {},
          "output_type": "display_data"
        }
      ],
      "source": [
        "import torch\n",
        "import torch.nn as nn\n",
        "import numpy as np\n",
        "import matplotlib.pyplot as plt\n",
        "\n",
        "# Generate sinusoidal temperature data with decreasing range over time\n",
        "np.random.seed(0)\n",
        "num_periods = 50\n",
        "timesteps_per_period = 10\n",
        "total_timesteps = num_periods * timesteps_per_period\n",
        "\n",
        "# Generate decreasing factor\n",
        "decreasing_factor = np.linspace(1, 0.1, total_timesteps)\n",
        "\n",
        "# Generate temperature data with decreasing sinusoidal range\n",
        "temperature_data = np.sin(np.linspace(0, 2*np.pi*num_periods, total_timesteps)) * decreasing_factor\n",
        "\n",
        "# Normalize the data\n",
        "temperature_data = (temperature_data - np.mean(temperature_data)) / np.std(temperature_data)\n",
        "\n",
        "# Convert numpy array to PyTorch tensor\n",
        "temperature_data = torch.tensor(temperature_data, dtype=torch.float32).view(-1, 1)\n",
        "\n",
        "# Define function to create dataset with sinusoidal pattern\n",
        "def create_dataset(data, seq_length):\n",
        "    X, Y = [], []\n",
        "    for i in range(len(data) - seq_length):\n",
        "        seq_in = data[i:i+seq_length]\n",
        "        seq_out = data[i+seq_length]\n",
        "        X.append(seq_in)\n",
        "        Y.append(seq_out)\n",
        "    return torch.stack(X), torch.stack(Y)\n",
        "\n",
        "# Define sequence length and create dataset\n",
        "sequence_length = 10  # Number of previous days to look at for prediction\n",
        "X, Y = create_dataset(temperature_data, sequence_length)\n",
        "\n",
        "# Split the dataset into train and test sets\n",
        "train_size = int(0.8 * len(X))\n",
        "test_size = len(X) - train_size\n",
        "X_train, X_test = X[:train_size], X[train_size:]\n",
        "Y_train, Y_test = Y[:train_size], Y[train_size:]\n",
        "\n",
        "# Define RNN model\n",
        "class SimpleRNN(nn.Module):\n",
        "    def __init__(self, input_size, hidden_size, output_size):\n",
        "        super(SimpleRNN, self).__init__()\n",
        "        self.rnn = nn.RNN(input_size, hidden_size, batch_first=True)\n",
        "        self.fc = nn.Linear(hidden_size, output_size)\n",
        "\n",
        "    def forward(self, x):\n",
        "        out, _ = self.rnn(x)\n",
        "        out = self.fc(out[:, -1, :])\n",
        "        return out\n",
        "\n",
        "# Define model parameters\n",
        "input_size = 1\n",
        "hidden_size = 10\n",
        "output_size = 1\n",
        "\n",
        "# Instantiate the model\n",
        "model = SimpleRNN(input_size, hidden_size, output_size)\n",
        "\n",
        "# Define loss function and optimizer\n",
        "criterion = nn.MSELoss()\n",
        "optimizer = torch.optim.Adam(model.parameters(), lr=0.001)\n",
        "\n",
        "# Train the model\n",
        "num_epochs = 100\n",
        "for epoch in range(num_epochs):\n",
        "    model.train()\n",
        "    outputs = model(X_train)\n",
        "    loss = criterion(outputs, Y_train)\n",
        "    optimizer.zero_grad()\n",
        "    loss.backward()\n",
        "    optimizer.step()\n",
        "\n",
        "    if (epoch+1) % 10 == 0:\n",
        "        print(f'Epoch [{epoch+1}/{num_epochs}], Loss: {loss.item():.4f}')\n",
        "\n",
        "# Evaluate the model\n",
        "model.eval()\n",
        "with torch.no_grad():\n",
        "    test_predictions = model(X_test)\n",
        "\n",
        "# Plot actual vs predicted\n",
        "plt.plot(Y_test.numpy(), label='Actual')\n",
        "plt.plot(test_predictions.numpy(), label='Predicted')\n",
        "plt.legend()\n",
        "plt.show()"
      ]
    },
    {
      "cell_type": "markdown",
      "metadata": {
        "id": "eOzchEUJ0k2E"
      },
      "source": [
        "# LSTM Preparation"
      ]
    },
    {
      "cell_type": "markdown",
      "metadata": {
        "id": "1BlfuzGF6jDM"
      },
      "source": [
        "Now that you have experience with traditional RNNs, it's time to implement the LSTM model. Your goal is to implement the cell and model for LSTM architecture. The proposed dataset for this section is MNIST, allowing you to focus solely on model implementation."
      ]
    },
    {
      "cell_type": "code",
      "execution_count": null,
      "metadata": {
        "id": "FB_MpK06uB9G"
      },
      "outputs": [],
      "source": [
        "train_dataset = datasets.MNIST(root='./data',\n",
        "                               train=True,\n",
        "                               transform=transforms.ToTensor(),\n",
        "                               download=True)\n",
        "\n",
        "test_dataset = datasets.MNIST(root='./data',\n",
        "                              train=False,\n",
        "                              transform=transforms.ToTensor())\n",
        "\n",
        "batch_size = 128\n",
        "n_iters = 3000\n",
        "num_epochs = int(n_iters / (len(train_dataset) / batch_size))"
      ]
    },
    {
      "cell_type": "code",
      "execution_count": null,
      "metadata": {
        "id": "oen0qO_nuLks"
      },
      "outputs": [],
      "source": [
        "train_loader = torch.utils.data.DataLoader(dataset=train_dataset,\n",
        "                                           batch_size=batch_size,\n",
        "                                           shuffle=True)\n",
        "\n",
        "test_loader = torch.utils.data.DataLoader(dataset=test_dataset,\n",
        "                                          batch_size=batch_size,\n",
        "                                          shuffle=False)"
      ]
    },
    {
      "cell_type": "markdown",
      "metadata": {
        "id": "9033G0tvJnjk"
      },
      "source": [
        "## LSTM Cells"
      ]
    },
    {
      "cell_type": "code",
      "execution_count": null,
      "metadata": {
        "id": "5Lp0K-CCxgPn"
      },
      "outputs": [],
      "source": [
        "class LSTMCell(nn.Module):\n",
        "    def __init__(self, input_size, hidden_size, bias=True):\n",
        "        super(LSTMCell, self).__init__()\n",
        "        self.input_size = input_size\n",
        "        self.hidden_size = hidden_size\n",
        "        self.bias = bias\n",
        "\n",
        "        self.W = nn.Linear(input_size + hidden_size, hidden_size * 4, bias=bias)\n",
        "        self.reset_parameters()\n",
        "\n",
        "    def reset_parameters(self):\n",
        "        std = 1.0 / np.sqrt(self.hidden_size)\n",
        "        for w in self.parameters():\n",
        "            w.data.uniform_(-std, std)\n",
        "\n",
        "    def forward(self, input, hx=None):\n",
        "        \"\"\"\n",
        "        Inputs:\n",
        "              input: (batch_size, input_size)\n",
        "              hx: (batch_size, hidden_size)\n",
        "        Outputs:\n",
        "              hy: (batch_size, hidden_size)\n",
        "              cy: (batch_size, hidden_size)\n",
        "        \"\"\"\n",
        "\n",
        "        if hx is None:\n",
        "            hx = Variable(input.new_zeros(input.size(0), self.hidden_size))\n",
        "            hx = (hx, hx)\n",
        "\n",
        "        hx, cx = hx\n",
        "        input = torch.concat([input, hx], dim=1)\n",
        "        gates = self.W(input)\n",
        "        input_gate, forget_gate, cell_gate, output_gate = gates.split(self.hidden_size, dim=1)\n",
        "\n",
        "        i_t = F.sigmoid(input_gate)\n",
        "        f_t = F.sigmoid(forget_gate)\n",
        "        g_t = F.tanh(cell_gate)\n",
        "        o_t = F.sigmoid(output_gate)\n",
        "\n",
        "        cy = f_t * cx + i_t * g_t\n",
        "        hy = o_t * F.tanh(cy)\n",
        "\n",
        "        return (hy, cy)"
      ]
    },
    {
      "cell_type": "markdown",
      "metadata": {
        "id": "iTxgK6zgKgYs"
      },
      "source": [
        "## LSTM Models"
      ]
    },
    {
      "cell_type": "code",
      "execution_count": null,
      "metadata": {
        "id": "g75EeAJauUzn"
      },
      "outputs": [],
      "source": [
        "class LSTMModel(nn.Module):\n",
        "    def __init__(self, input_dim, hidden_dim, layer_dim, output_dim):\n",
        "        super(LSTMModel, self).__init__()\n",
        "\n",
        "        self.hidden_dim = hidden_dim\n",
        "        self.layer_dim = layer_dim\n",
        "\n",
        "        self.lstm = LSTMCell(input_dim, hidden_dim)\n",
        "\n",
        "        self.fc = nn.Linear(hidden_dim, output_dim)\n",
        "\n",
        "\n",
        "\n",
        "    def forward(self, x):\n",
        "\n",
        "        # Initialize hidden state with zeros\n",
        "        h0 = Variable(torch.zeros(self.layer_dim, x.size(0), self.hidden_dim))\n",
        "        c0 = Variable(torch.zeros(self.layer_dim, x.size(0), self.hidden_dim))\n",
        "        cn = c0[0,:,:]\n",
        "        hn = h0[0,:,:]\n",
        "\n",
        "        for seq in range(x.size(1)):\n",
        "            hn, cn = self.lstm(x[:,seq,:], (hn, cn))\n",
        "\n",
        "        out = self.fc(hn)\n",
        "        return out"
      ]
    },
    {
      "cell_type": "code",
      "execution_count": null,
      "metadata": {
        "id": "QMOEeZZiuWxS"
      },
      "outputs": [],
      "source": [
        "input_dim = 28\n",
        "hidden_dim = 128\n",
        "layer_dim = 1  # ONLY 1 OR 2\n",
        "output_dim = 10\n",
        "\n",
        "model = LSTMModel(input_dim, hidden_dim, layer_dim, output_dim)\n",
        "\n",
        "learning_rate = 0.005\n",
        "criterion = nn.CrossEntropyLoss()\n",
        "optimizer = torch.optim.Adam(model.parameters(), learning_rate)"
      ]
    },
    {
      "cell_type": "code",
      "execution_count": null,
      "metadata": {
        "id": "JIENTkLStZT1",
        "outputId": "2f255b11-27e0-4002-b464-efea40489718"
      },
      "outputs": [
        {
          "name": "stdout",
          "output_type": "stream",
          "text": [
            "Epoch(1/6); test_accuracy:0.9602;\n",
            "Epoch(2/6); test_accuracy:0.9739;\n",
            "Epoch(3/6); test_accuracy:0.9773;\n",
            "Epoch(4/6); test_accuracy:0.9783;\n",
            "Epoch(5/6); test_accuracy:0.9847;\n",
            "Epoch(6/6); test_accuracy:0.9861;\n"
          ]
        }
      ],
      "source": [
        "for epoch in range(num_epochs):\n",
        "    model.train()\n",
        "    for batch, labels in train_loader:\n",
        "        optimizer.zero_grad()\n",
        "        output = model(batch.view(batch.shape[0], *batch.shape[2:]))\n",
        "        loss = criterion(output, labels)\n",
        "        loss.backward()\n",
        "        optimizer.step()\n",
        "\n",
        "    with torch.no_grad():\n",
        "        correct = 0\n",
        "        total = 0\n",
        "        model.eval()\n",
        "        for batch, labels in test_loader:\n",
        "            output = model(batch.view(batch.shape[0], *batch.shape[2:]))\n",
        "            _, predicted = output.max(1)\n",
        "            correct +=  predicted.eq(labels).sum().item()\n",
        "            total += labels.size(0)\n",
        "            accuracy = correct / total\n",
        "        print(f\"Epoch({epoch + 1}/{num_epochs}); test_accuracy:{accuracy};\")"
      ]
    },
    {
      "cell_type": "markdown",
      "metadata": {
        "id": "yO8aLb1_NN65"
      },
      "source": [
        "# Sentiment Analysis"
      ]
    },
    {
      "cell_type": "markdown",
      "metadata": {
        "id": "2G_TeIlFNTeR"
      },
      "source": [
        "Now you are ready to face a real-world problem. In this task, we want you to do a sentiment analysis on the [IMDB dataset](https://www.kaggle.com/datasets/lakshmi25npathi/imdb-dataset-of-50k-movie-reviews). The main goal is to reach more than an acceptable accuracy of **75%** on LSTM model. You are free to use torch.nn.LSTM to design your architecture, but you must prepare the IMDB dataset on your own."
      ]
    },
    {
      "cell_type": "code",
      "execution_count": 3,
      "metadata": {
        "colab": {
          "base_uri": "https://localhost:8080/",
          "height": 55
        },
        "id": "zK_bpOGLGPCL",
        "outputId": "f0fbef8e-76fc-46c7-c2a7-d578626b1a1e"
      },
      "outputs": [
        {
          "data": {
            "text/plain": [
              "'cpu'"
            ]
          },
          "execution_count": 3,
          "metadata": {},
          "output_type": "execute_result"
        }
      ],
      "source": [
        "import torch\n",
        "CUDA = 'cuda'\n",
        "device = CUDA if torch.cuda.is_available() else 'cpu'\n",
        "device"
      ]
    },
    {
      "cell_type": "markdown",
      "metadata": {
        "id": "ze4hJCMQGPCL"
      },
      "source": [
        "\n",
        "\n",
        "### Data cleaning\n",
        "Remove HTML tags, punctuation, numbers, stop words and convert into lowercase."
      ]
    },
    {
      "cell_type": "code",
      "execution_count": 4,
      "metadata": {
        "id": "Jpqt1n6zGPCM"
      },
      "outputs": [],
      "source": [
        "import pandas as pd\n",
        "from sklearn.model_selection import train_test_split\n",
        "import nltk\n",
        "from nltk.corpus import stopwords"
      ]
    },
    {
      "cell_type": "code",
      "execution_count": 39,
      "metadata": {
        "id": "Y6B0l2nSGPCN"
      },
      "outputs": [],
      "source": [
        "import torch.utils.data\n",
        "\n",
        "class TorchDataset(torch.utils.data.Dataset):\n",
        "    def __init__(self, X, y) -> None:\n",
        "        super().__init__()\n",
        "        self.X = X\n",
        "        self.y = torch.tensor(y)\n",
        "\n",
        "    def __len__(self):\n",
        "        return len(self.y)\n",
        "\n",
        "    def __getitem__(self, index):\n",
        "        return self.X[index], self.y[index]\n",
        "\n",
        "class TextDataset:\n",
        "    def __init__(self) -> None:\n",
        "        self.X, self.y  = self.__load_dataset()\n",
        "        self.X_train, self.X_test, self.y_train, self.y_test = train_test_split(self.X, self.y, test_size=0.2, random_state=42)\n",
        "        self.max_length = max([len(x) for x in self.X])\n",
        "\n",
        "        self.dictionary = {}\n",
        "        self.num_words = None\n",
        "        self.__create_dict()\n",
        "        self.X_train_indices = torch.stack([self.__get_indices(x) for x in self.X_train])\n",
        "        self.X_test_indices = torch.stack([self.__get_indices(x) for x in self.X_test])\n",
        "\n",
        "\n",
        "    def get_data(self):\n",
        "        return TorchDataset(self.X_train_indices, self.y_train), TorchDataset(self.X_test_indices, self.y_test)\n",
        "\n",
        "    def __load_dataset(self):\n",
        "        nltk.download('stopwords', quiet=True)\n",
        "        english_stops = stopwords.words('english')\n",
        "\n",
        "        df = pd.read_csv('data/IMDB/IMDB Dataset.csv')\n",
        "        X = df['review']\n",
        "        y = df['sentiment']\n",
        "\n",
        "        X = X.replace({'<.*?>': ''}, regex = True)          # remove html tag\n",
        "        X = X.replace({'[^A-Za-z]': ' '}, regex = True)     # remove non alphabet\n",
        "        X = X.apply(lambda review: [w for w in review.split() if w not in english_stops])  # remove stop words\n",
        "        X = X.apply(lambda review: [w.lower() for w in review])   # lower case\n",
        "\n",
        "        y = y.replace('positive', 1)\n",
        "        y = y.replace('negative', 0)\n",
        "\n",
        "        return X.values, y.values\n",
        "\n",
        "    def __create_dict(self):\n",
        "        self.num_words = 1\n",
        "        for x in self.X_train:\n",
        "            for word in x:\n",
        "                if word not in self.dictionary:\n",
        "                    self.dictionary[word] = self.num_words\n",
        "                    self.num_words += 1\n",
        "\n",
        "    def __get_indices(self, x):\n",
        "        indices = torch.zeros(self.max_length, dtype=torch.int32)\n",
        "        offset = self.max_length - len(x)\n",
        "        for i, word in enumerate(x):\n",
        "            indices[i + offset] =  self.dictionary.get(word, 0)\n",
        "\n",
        "        return indices"
      ]
    },
    {
      "cell_type": "code",
      "execution_count": 40,
      "metadata": {
        "id": "8pZu3rGoGPCN"
      },
      "outputs": [],
      "source": [
        "dataset = TextDataset()\n",
        "train_dataset, test_dataset = dataset.get_data()\n"
      ]
    },
    {
      "cell_type": "code",
      "execution_count": null,
      "metadata": {},
      "outputs": [],
      "source": [
        "import torch.utils.data\n",
        "from torch.utils.data import random_split\n",
        "\n",
        "test_size = len(test_dataset) // 2\n",
        "val_size = len(test_dataset) - test_size\n",
        "test_dataset, val_dataset = random_split(test_dataset, [test_size, val_size])\n",
        "\n",
        "batch_size = 128\n",
        "\n",
        "train_loader = torch.utils.data.DataLoader(train_dataset, batch_size, shuffle=True)\n",
        "val_loader = torch.utils.data.DataLoader(val_dataset, batch_size, shuffle=False)\n",
        "test_loader = torch.utils.data.DataLoader(test_dataset, batch_size, shuffle=False)"
      ]
    },
    {
      "cell_type": "markdown",
      "metadata": {},
      "source": [
        "### Creating the model"
      ]
    },
    {
      "cell_type": "code",
      "execution_count": 26,
      "metadata": {
        "id": "Hv6TEuXaGPCN"
      },
      "outputs": [],
      "source": [
        "from torch import nn\n",
        "class SentimentLSTM(nn.Module):\n",
        "    def __init__(self, num_words, embedding_dim, hidden_size, num_classes=2) -> None:\n",
        "        super(SentimentLSTM, self).__init__()\n",
        "        self.hidden_size = hidden_size\n",
        "\n",
        "        self.embedding = nn.Embedding(num_words, embedding_dim)\n",
        "        self.lstm = nn.LSTM(embedding_dim, hidden_size, batch_first=True)\n",
        "        self.dropout = nn.Dropout(0.3)\n",
        "        self.fc = nn.Linear(hidden_size, num_classes)\n",
        "\n",
        "    def forward(self, x, hx=None):\n",
        "        if hx == None:\n",
        "            hn = torch.zeros(1, x.shape[0], self.hidden_size, dtype=torch.float32, device=device)\n",
        "            cn = torch.zeros(1, x.shape[0], self.hidden_size, dtype=torch.float32, device=device)\n",
        "            hx = (hn, cn)\n",
        "        x = self.embedding(x)\n",
        "        x, (hn, cn) = self.lstm(x, hx)\n",
        "        out = self.dropout(hn.view(*hn.shape[1:]))\n",
        "        out = self.fc(out)\n",
        "\n",
        "        return out, (hn, cn)"
      ]
    },
    {
      "cell_type": "code",
      "execution_count": 33,
      "metadata": {
        "id": "YZZFjxEMGPCO"
      },
      "outputs": [],
      "source": [
        "model = SentimentLSTM(num_words=dataset.num_words, embedding_dim=64, hidden_size=256).to(device)"
      ]
    },
    {
      "cell_type": "markdown",
      "metadata": {},
      "source": [
        "### Training the model"
      ]
    },
    {
      "cell_type": "code",
      "execution_count": 34,
      "metadata": {
        "colab": {
          "base_uri": "https://localhost:8080/"
        },
        "id": "U8JsH_tNGPCO",
        "outputId": "78d85e66-fc79-4c71-869a-98419189fdbb"
      },
      "outputs": [],
      "source": [
        "num_epochs = 10\n",
        "\n",
        "criterion = nn.CrossEntropyLoss()\n",
        "optimizer = torch.optim.Adam(model.parameters(), lr=0.001)\n",
        "\n",
        "history = {'train_loss': [], 'train_acc': [], 'val_loss': [], 'val_acc': []}\n",
        "\n",
        "if device == CUDA:\n",
        "    for epoch in range(num_epochs):\n",
        "        corrects, total, total_loss = 0, 0, 0\n",
        "\n",
        "        for batch, labels in train_loader:\n",
        "            batch, labels = batch.to(device), labels.to(device)\n",
        "            model.train()\n",
        "\n",
        "            optimizer.zero_grad()\n",
        "            output, _ = model(batch)\n",
        "            loss = criterion(output, labels)\n",
        "            loss.backward()\n",
        "            optimizer.step()\n",
        "\n",
        "            _, predicted = output.max(1)\n",
        "            corrects += predicted.eq(labels).sum().item()\n",
        "            total += len(labels)\n",
        "            total_loss += loss\n",
        "\n",
        "        accuracy = corrects / total\n",
        "\n",
        "        history['train_loss'].append(total_loss / total)\n",
        "        history['train_acc'].append(accuracy)\n",
        "\n",
        "\n",
        "        with torch.no_grad():\n",
        "            corrects, total, total_loss = 0, 0, 0\n",
        "            model.eval()\n",
        "            for batch, labels in val_loader:\n",
        "                batch, labels = batch.to(device), labels.to(device)\n",
        "                output, _ = model(batch)\n",
        "                total_loss += criterion(output, labels)\n",
        "\n",
        "                _, predicted = output.max(1)\n",
        "                corrects += predicted.eq(labels).sum().item()\n",
        "                total += len(labels)\n",
        "\n",
        "            accuracy = corrects / total\n",
        "\n",
        "            history['val_loss'].append(total_loss / total)\n",
        "            history['val_acc'].append(accuracy)\n",
        "\n",
        "        print(f\"Epoch({epoch+1}/{num_epochs})\", end=' ')\n",
        "        for key, value in history.items():\n",
        "            print(f\"{key}: {value[-1]};\", end=' ')\n",
        "        print()\n",
        "\n",
        "    save(model, 'lstm')\n",
        "    save(history, 'lstm_history')\n",
        "else:\n",
        "    model.load_state_dict(load('lstm'))\n",
        "    history = load('lstm_history')\n"
      ]
    },
    {
      "cell_type": "code",
      "execution_count": 53,
      "metadata": {},
      "outputs": [
        {
          "ename": "RuntimeError",
          "evalue": "Can't call numpy() on Tensor that requires grad. Use tensor.detach().numpy() instead.",
          "output_type": "error",
          "traceback": [
            "\u001b[0;31m---------------------------------------------------------------------------\u001b[0m",
            "\u001b[0;31mRuntimeError\u001b[0m                              Traceback (most recent call last)",
            "Cell \u001b[0;32mIn[53], line 5\u001b[0m\n\u001b[1;32m      2\u001b[0m plt\u001b[38;5;241m.\u001b[39mfigure(dpi\u001b[38;5;241m=\u001b[39m\u001b[38;5;241m200\u001b[39m, figsize\u001b[38;5;241m=\u001b[39m(\u001b[38;5;241m10\u001b[39m, \u001b[38;5;241m5\u001b[39m))\n\u001b[1;32m      4\u001b[0m plt\u001b[38;5;241m.\u001b[39msubplot(\u001b[38;5;241m121\u001b[39m)\n\u001b[0;32m----> 5\u001b[0m plt\u001b[38;5;241m.\u001b[39mplot(history[\u001b[38;5;124m'\u001b[39m\u001b[38;5;124mtrain_loss\u001b[39m\u001b[38;5;124m'\u001b[39m], label\u001b[38;5;241m=\u001b[39m\u001b[38;5;124m'\u001b[39m\u001b[38;5;124mtrain\u001b[39m\u001b[38;5;124m'\u001b[39m)\n\u001b[1;32m      6\u001b[0m plt\u001b[38;5;241m.\u001b[39mplot(history[\u001b[38;5;124m'\u001b[39m\u001b[38;5;124mval_loss\u001b[39m\u001b[38;5;124m'\u001b[39m], label\u001b[38;5;241m=\u001b[39m\u001b[38;5;124m'\u001b[39m\u001b[38;5;124mvalidation\u001b[39m\u001b[38;5;124m'\u001b[39m)\n\u001b[1;32m      7\u001b[0m plt\u001b[38;5;241m.\u001b[39mxlabel(\u001b[38;5;124m'\u001b[39m\u001b[38;5;124mepoch\u001b[39m\u001b[38;5;124m'\u001b[39m)\n",
            "File \u001b[0;32m~/anaconda3/lib/python3.11/site-packages/matplotlib/pyplot.py:2812\u001b[0m, in \u001b[0;36mplot\u001b[0;34m(scalex, scaley, data, *args, **kwargs)\u001b[0m\n\u001b[1;32m   2810\u001b[0m \u001b[38;5;129m@_copy_docstring_and_deprecators\u001b[39m(Axes\u001b[38;5;241m.\u001b[39mplot)\n\u001b[1;32m   2811\u001b[0m \u001b[38;5;28;01mdef\u001b[39;00m \u001b[38;5;21mplot\u001b[39m(\u001b[38;5;241m*\u001b[39margs, scalex\u001b[38;5;241m=\u001b[39m\u001b[38;5;28;01mTrue\u001b[39;00m, scaley\u001b[38;5;241m=\u001b[39m\u001b[38;5;28;01mTrue\u001b[39;00m, data\u001b[38;5;241m=\u001b[39m\u001b[38;5;28;01mNone\u001b[39;00m, \u001b[38;5;241m*\u001b[39m\u001b[38;5;241m*\u001b[39mkwargs):\n\u001b[0;32m-> 2812\u001b[0m     \u001b[38;5;28;01mreturn\u001b[39;00m gca()\u001b[38;5;241m.\u001b[39mplot(\n\u001b[1;32m   2813\u001b[0m         \u001b[38;5;241m*\u001b[39margs, scalex\u001b[38;5;241m=\u001b[39mscalex, scaley\u001b[38;5;241m=\u001b[39mscaley,\n\u001b[1;32m   2814\u001b[0m         \u001b[38;5;241m*\u001b[39m\u001b[38;5;241m*\u001b[39m({\u001b[38;5;124m\"\u001b[39m\u001b[38;5;124mdata\u001b[39m\u001b[38;5;124m\"\u001b[39m: data} \u001b[38;5;28;01mif\u001b[39;00m data \u001b[38;5;129;01mis\u001b[39;00m \u001b[38;5;129;01mnot\u001b[39;00m \u001b[38;5;28;01mNone\u001b[39;00m \u001b[38;5;28;01melse\u001b[39;00m {}), \u001b[38;5;241m*\u001b[39m\u001b[38;5;241m*\u001b[39mkwargs)\n",
            "File \u001b[0;32m~/anaconda3/lib/python3.11/site-packages/matplotlib/axes/_axes.py:1688\u001b[0m, in \u001b[0;36mAxes.plot\u001b[0;34m(self, scalex, scaley, data, *args, **kwargs)\u001b[0m\n\u001b[1;32m   1445\u001b[0m \u001b[38;5;250m\u001b[39m\u001b[38;5;124;03m\"\"\"\u001b[39;00m\n\u001b[1;32m   1446\u001b[0m \u001b[38;5;124;03mPlot y versus x as lines and/or markers.\u001b[39;00m\n\u001b[1;32m   1447\u001b[0m \n\u001b[0;32m   (...)\u001b[0m\n\u001b[1;32m   1685\u001b[0m \u001b[38;5;124;03m(``'green'``) or hex strings (``'#008000'``).\u001b[39;00m\n\u001b[1;32m   1686\u001b[0m \u001b[38;5;124;03m\"\"\"\u001b[39;00m\n\u001b[1;32m   1687\u001b[0m kwargs \u001b[38;5;241m=\u001b[39m cbook\u001b[38;5;241m.\u001b[39mnormalize_kwargs(kwargs, mlines\u001b[38;5;241m.\u001b[39mLine2D)\n\u001b[0;32m-> 1688\u001b[0m lines \u001b[38;5;241m=\u001b[39m [\u001b[38;5;241m*\u001b[39m\u001b[38;5;28mself\u001b[39m\u001b[38;5;241m.\u001b[39m_get_lines(\u001b[38;5;241m*\u001b[39margs, data\u001b[38;5;241m=\u001b[39mdata, \u001b[38;5;241m*\u001b[39m\u001b[38;5;241m*\u001b[39mkwargs)]\n\u001b[1;32m   1689\u001b[0m \u001b[38;5;28;01mfor\u001b[39;00m line \u001b[38;5;129;01min\u001b[39;00m lines:\n\u001b[1;32m   1690\u001b[0m     \u001b[38;5;28mself\u001b[39m\u001b[38;5;241m.\u001b[39madd_line(line)\n",
            "File \u001b[0;32m~/anaconda3/lib/python3.11/site-packages/matplotlib/axes/_base.py:311\u001b[0m, in \u001b[0;36m_process_plot_var_args.__call__\u001b[0;34m(self, data, *args, **kwargs)\u001b[0m\n\u001b[1;32m    309\u001b[0m     this \u001b[38;5;241m+\u001b[39m\u001b[38;5;241m=\u001b[39m args[\u001b[38;5;241m0\u001b[39m],\n\u001b[1;32m    310\u001b[0m     args \u001b[38;5;241m=\u001b[39m args[\u001b[38;5;241m1\u001b[39m:]\n\u001b[0;32m--> 311\u001b[0m \u001b[38;5;28;01myield from\u001b[39;00m \u001b[38;5;28mself\u001b[39m\u001b[38;5;241m.\u001b[39m_plot_args(\n\u001b[1;32m    312\u001b[0m     this, kwargs, ambiguous_fmt_datakey\u001b[38;5;241m=\u001b[39mambiguous_fmt_datakey)\n",
            "File \u001b[0;32m~/anaconda3/lib/python3.11/site-packages/matplotlib/axes/_base.py:496\u001b[0m, in \u001b[0;36m_process_plot_var_args._plot_args\u001b[0;34m(self, tup, kwargs, return_kwargs, ambiguous_fmt_datakey)\u001b[0m\n\u001b[1;32m    494\u001b[0m     y \u001b[38;5;241m=\u001b[39m _check_1d(xy[\u001b[38;5;241m1\u001b[39m])\n\u001b[1;32m    495\u001b[0m \u001b[38;5;28;01melse\u001b[39;00m:\n\u001b[0;32m--> 496\u001b[0m     x, y \u001b[38;5;241m=\u001b[39m index_of(xy[\u001b[38;5;241m-\u001b[39m\u001b[38;5;241m1\u001b[39m])\n\u001b[1;32m    498\u001b[0m \u001b[38;5;28;01mif\u001b[39;00m \u001b[38;5;28mself\u001b[39m\u001b[38;5;241m.\u001b[39maxes\u001b[38;5;241m.\u001b[39mxaxis \u001b[38;5;129;01mis\u001b[39;00m \u001b[38;5;129;01mnot\u001b[39;00m \u001b[38;5;28;01mNone\u001b[39;00m:\n\u001b[1;32m    499\u001b[0m     \u001b[38;5;28mself\u001b[39m\u001b[38;5;241m.\u001b[39maxes\u001b[38;5;241m.\u001b[39mxaxis\u001b[38;5;241m.\u001b[39mupdate_units(x)\n",
            "File \u001b[0;32m~/anaconda3/lib/python3.11/site-packages/matplotlib/cbook/__init__.py:1661\u001b[0m, in \u001b[0;36mindex_of\u001b[0;34m(y)\u001b[0m\n\u001b[1;32m   1659\u001b[0m     \u001b[38;5;28;01mpass\u001b[39;00m\n\u001b[1;32m   1660\u001b[0m \u001b[38;5;28;01mtry\u001b[39;00m:\n\u001b[0;32m-> 1661\u001b[0m     y \u001b[38;5;241m=\u001b[39m _check_1d(y)\n\u001b[1;32m   1662\u001b[0m \u001b[38;5;28;01mexcept\u001b[39;00m (np\u001b[38;5;241m.\u001b[39mVisibleDeprecationWarning, \u001b[38;5;167;01mValueError\u001b[39;00m):\n\u001b[1;32m   1663\u001b[0m     \u001b[38;5;66;03m# NumPy 1.19 will warn on ragged input, and we can't actually use it.\u001b[39;00m\n\u001b[1;32m   1664\u001b[0m     \u001b[38;5;28;01mpass\u001b[39;00m\n",
            "File \u001b[0;32m~/anaconda3/lib/python3.11/site-packages/matplotlib/cbook/__init__.py:1353\u001b[0m, in \u001b[0;36m_check_1d\u001b[0;34m(x)\u001b[0m\n\u001b[1;32m   1347\u001b[0m \u001b[38;5;66;03m# plot requires `shape` and `ndim`.  If passed an\u001b[39;00m\n\u001b[1;32m   1348\u001b[0m \u001b[38;5;66;03m# object that doesn't provide them, then force to numpy array.\u001b[39;00m\n\u001b[1;32m   1349\u001b[0m \u001b[38;5;66;03m# Note this will strip unit information.\u001b[39;00m\n\u001b[1;32m   1350\u001b[0m \u001b[38;5;28;01mif\u001b[39;00m (\u001b[38;5;129;01mnot\u001b[39;00m \u001b[38;5;28mhasattr\u001b[39m(x, \u001b[38;5;124m'\u001b[39m\u001b[38;5;124mshape\u001b[39m\u001b[38;5;124m'\u001b[39m) \u001b[38;5;129;01mor\u001b[39;00m\n\u001b[1;32m   1351\u001b[0m         \u001b[38;5;129;01mnot\u001b[39;00m \u001b[38;5;28mhasattr\u001b[39m(x, \u001b[38;5;124m'\u001b[39m\u001b[38;5;124mndim\u001b[39m\u001b[38;5;124m'\u001b[39m) \u001b[38;5;129;01mor\u001b[39;00m\n\u001b[1;32m   1352\u001b[0m         \u001b[38;5;28mlen\u001b[39m(x\u001b[38;5;241m.\u001b[39mshape) \u001b[38;5;241m<\u001b[39m \u001b[38;5;241m1\u001b[39m):\n\u001b[0;32m-> 1353\u001b[0m     \u001b[38;5;28;01mreturn\u001b[39;00m np\u001b[38;5;241m.\u001b[39matleast_1d(x)\n\u001b[1;32m   1354\u001b[0m \u001b[38;5;28;01melse\u001b[39;00m:\n\u001b[1;32m   1355\u001b[0m     \u001b[38;5;28;01mreturn\u001b[39;00m x\n",
            "File \u001b[0;32m<__array_function__ internals>:200\u001b[0m, in \u001b[0;36matleast_1d\u001b[0;34m(*args, **kwargs)\u001b[0m\n",
            "File \u001b[0;32m~/anaconda3/lib/python3.11/site-packages/numpy/core/shape_base.py:65\u001b[0m, in \u001b[0;36matleast_1d\u001b[0;34m(*arys)\u001b[0m\n\u001b[1;32m     63\u001b[0m res \u001b[38;5;241m=\u001b[39m []\n\u001b[1;32m     64\u001b[0m \u001b[38;5;28;01mfor\u001b[39;00m ary \u001b[38;5;129;01min\u001b[39;00m arys:\n\u001b[0;32m---> 65\u001b[0m     ary \u001b[38;5;241m=\u001b[39m asanyarray(ary)\n\u001b[1;32m     66\u001b[0m     \u001b[38;5;28;01mif\u001b[39;00m ary\u001b[38;5;241m.\u001b[39mndim \u001b[38;5;241m==\u001b[39m \u001b[38;5;241m0\u001b[39m:\n\u001b[1;32m     67\u001b[0m         result \u001b[38;5;241m=\u001b[39m ary\u001b[38;5;241m.\u001b[39mreshape(\u001b[38;5;241m1\u001b[39m)\n",
            "File \u001b[0;32m~/anaconda3/lib/python3.11/site-packages/torch/_tensor.py:1087\u001b[0m, in \u001b[0;36mTensor.__array__\u001b[0;34m(self, dtype)\u001b[0m\n\u001b[1;32m   1085\u001b[0m     \u001b[38;5;28;01mreturn\u001b[39;00m handle_torch_function(Tensor\u001b[38;5;241m.\u001b[39m__array__, (\u001b[38;5;28mself\u001b[39m,), \u001b[38;5;28mself\u001b[39m, dtype\u001b[38;5;241m=\u001b[39mdtype)\n\u001b[1;32m   1086\u001b[0m \u001b[38;5;28;01mif\u001b[39;00m dtype \u001b[38;5;129;01mis\u001b[39;00m \u001b[38;5;28;01mNone\u001b[39;00m:\n\u001b[0;32m-> 1087\u001b[0m     \u001b[38;5;28;01mreturn\u001b[39;00m \u001b[38;5;28mself\u001b[39m\u001b[38;5;241m.\u001b[39mnumpy()\n\u001b[1;32m   1088\u001b[0m \u001b[38;5;28;01melse\u001b[39;00m:\n\u001b[1;32m   1089\u001b[0m     \u001b[38;5;28;01mreturn\u001b[39;00m \u001b[38;5;28mself\u001b[39m\u001b[38;5;241m.\u001b[39mnumpy()\u001b[38;5;241m.\u001b[39mastype(dtype, copy\u001b[38;5;241m=\u001b[39m\u001b[38;5;28;01mFalse\u001b[39;00m)\n",
            "\u001b[0;31mRuntimeError\u001b[0m: Can't call numpy() on Tensor that requires grad. Use tensor.detach().numpy() instead."
          ]
        },
        {
          "data": {
            "image/png": "[encoded data removed]",
            "text/plain": [
              "<Figure size 2000x1000 with 1 Axes>"
            ]
          },
          "metadata": {},
          "output_type": "display_data"
        }
      ],
      "source": [
        "import matplotlib.pyplot as plt \n",
        "plt.figure(dpi=200, figsize=(10, 5))\n",
        "\n",
        "plt.subplot(121)\n",
        "plt.plot(history['train_loss'], label='train')\n",
        "plt.plot(history['val_loss'], label='validation')\n",
        "plt.xlabel('epoch')\n",
        "plt.ylabel('loss')\n",
        "plt.title('Losses')\n",
        "plt.legend()\n",
        "\n",
        "plt.subplot(122)\n",
        "plt.plot(history['train_acc'], label='train')\n",
        "plt.plot(history['val_acc'], label='validation')\n",
        "plt.legend()\n",
        "plt.xlabel('epoch')\n",
        "plt.ylabel('accuracy')\n",
        "plt.ylim(0, 1)\n",
        "plt.title('Accuracies')\n",
        "\n",
        "plt.tight_layout()\n",
        "plt.show()"
      ]
    },
    {
      "cell_type": "markdown",
      "metadata": {},
      "source": [
        "### Testing the model"
      ]
    },
    {
      "cell_type": "code",
      "execution_count": 49,
      "metadata": {},
      "outputs": [
        {
          "name": "stdout",
          "output_type": "stream",
          "text": [
            "test_acc: 0.2537\n"
          ]
        }
      ],
      "source": [
        "correct = 0\n",
        "for batch, labels in test_loader:\n",
        "    output, _ = model(batch)\n",
        "    _, predicted = output.max(1)\n",
        "    correct += predicted.eq(labels).sum().item()\n",
        "print(\"test_acc:\", correct / len(test_dataset))"
      ]
    }
  ],
  "metadata": {
    "accelerator": "GPU",
    "colab": {
      "gpuType": "T4",
      "provenance": [],
      "toc_visible": true
    },
    "kernelspec": {
      "display_name": "Python 3",
      "name": "python3"
    },
    "language_info": {
      "codemirror_mode": {
        "name": "ipython",
        "version": 3
      },
      "file_extension": ".py",
      "mimetype": "text/x-python",
      "name": "python",
      "nbconvert_exporter": "python",
      "pygments_lexer": "ipython3",
      "version": "3.11.5"
    }
  },
  "nbformat": 4,
  "nbformat_minor": 0
}
